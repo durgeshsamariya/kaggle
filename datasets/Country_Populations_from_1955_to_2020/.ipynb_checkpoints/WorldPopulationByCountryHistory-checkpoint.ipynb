{
 "cells": [
  {
   "cell_type": "markdown",
   "metadata": {},
   "source": [
    "# Import Libraries\n",
    "Importing libraries are necessary for any project.\n",
    "We're going to import commonly used Webscrapping and Data Analysis libraries. Make sure all libraries are installed."
   ]
  },
  {
   "cell_type": "code",
   "execution_count": 1,
   "metadata": {
    "ExecuteTime": {
     "end_time": "2020-08-13T12:54:55.705700Z",
     "start_time": "2020-08-13T12:54:53.987021Z"
    }
   },
   "outputs": [],
   "source": [
    "import requests # for getting web contents\n",
    "from bs4 import BeautifulSoup # for scraping web contents\n",
    "import pandas as pd # for data analysis\n",
    "import numpy as np"
   ]
  },
  {
   "cell_type": "markdown",
   "metadata": {},
   "source": [
    "# URL\n",
    "For web scrapping it's important to have url."
   ]
  },
  {
   "cell_type": "code",
   "execution_count": 2,
   "metadata": {
    "ExecuteTime": {
     "end_time": "2020-08-13T12:54:57.645946Z",
     "start_time": "2020-08-13T12:54:55.713079Z"
    }
   },
   "outputs": [],
   "source": [
    "# link of web page that you want to scrap data\n",
    "URL = 'https://www.worldometers.info/world-population/population-by-country/'\n",
    "\n",
    "# get web data\n",
    "page = requests.get(URL)\n",
    "\n",
    "# parse web data\n",
    "soup = BeautifulSoup(page.content, \"html.parser\")"
   ]
  },
  {
   "cell_type": "code",
   "execution_count": 3,
   "metadata": {
    "ExecuteTime": {
     "end_time": "2020-08-13T12:54:57.748455Z",
     "start_time": "2020-08-13T12:54:57.652546Z"
    }
   },
   "outputs": [],
   "source": [
    "# find the table\n",
    "# our trageted table is last\n",
    "\n",
    "# getting the table body\n",
    "html_tbody = soup.find_all('tbody')[-1]\n",
    "\n",
    "#getting all the rows in table body\n",
    "html_text = [tr for tr in html_tbody.find_all('tr')]\n",
    "\n",
    "urls = []\n",
    "countries = []\n",
    "\n",
    "# loop through table body\n",
    "for tr in html_text:\n",
    "    # getting all th, td\n",
    "    th = tr.find_all(['th','td'])\n",
    "    # storing all th value in row and removing white space\n",
    "    # append content\n",
    "    country = th[1].get_text()\n",
    "    url = th[1].find('a')['href']\n",
    "    urls.append(url)\n",
    "    countries.append(country)"
   ]
  },
  {
   "cell_type": "code",
   "execution_count": 4,
   "metadata": {
    "ExecuteTime": {
     "end_time": "2020-08-13T12:54:57.768351Z",
     "start_time": "2020-08-13T12:54:57.752789Z"
    }
   },
   "outputs": [],
   "source": [
    "# function to scrape values from each url\n",
    "def url_scrraper(url,country):\n",
    "    page = requests.get(url)\n",
    "    soup = BeautifulSoup(page.content, \"html.parser\")\n",
    "    table = soup.find_all('table')[0]\n",
    "    # getting the table head because it may contains headings (column names)\n",
    "    html_thead = soup.find_all('thead')[0]\n",
    "\n",
    "    #getting all the rows in table head\n",
    "    html_tr = [tr for tr in html_thead.find_all('tr')]\n",
    "\n",
    "    # loop through table head\n",
    "    for tr in html_tr:\n",
    "        # getting all th\n",
    "        th = tr.find_all(['th'])\n",
    "        # storing all th value in row and removing white space\n",
    "        row = [i.text.strip() for i in th]\n",
    "        row.insert(1, 'Country')\n",
    "        # append headings \n",
    "        headings.append(row)\n",
    "        if len(headings[0]) != 14:\n",
    "            headings[0].insert(5, 'Migrants (net)')\n",
    "            headings[0].insert(6, 'Median Age')\n",
    "            headings[0].insert(7, 'Fertility Rate')\n",
    "    \n",
    "    # getting the table body\n",
    "    html_tbody = soup.find_all('tbody')[0]\n",
    "\n",
    "    #getting all the rows in table body\n",
    "    html_text = [tr for tr in html_tbody.find_all('tr')]\n",
    "\n",
    "\n",
    "    # loop through table body\n",
    "    for tr in html_text:\n",
    "        # getting all th, td\n",
    "        th = tr.find_all(['th','td'])\n",
    "        # storing all th value in row and removing white space\n",
    "        row = [i.text.strip() for i in th]\n",
    "        row.insert(1, country)\n",
    "        if len(row) != 14:\n",
    "            row.insert(5, np.nan)\n",
    "            row.insert(6, np.nan)\n",
    "            row.insert(7, np.nan)\n",
    "        # append content\n",
    "        content.append(row)"
   ]
  },
  {
   "cell_type": "code",
   "execution_count": 5,
   "metadata": {
    "ExecuteTime": {
     "end_time": "2020-08-13T12:59:14.974463Z",
     "start_time": "2020-08-13T12:54:57.774540Z"
    },
    "scrolled": true
   },
   "outputs": [],
   "source": [
    "base_url = 'https://www.worldometers.info'\n",
    "content = []\n",
    "\n",
    "for i in range(len(countries)):\n",
    "    headings = []\n",
    "    if type(urls[i]) == list:\n",
    "        url = base_url + urls[i][0]\n",
    "    else:\n",
    "        url = base_url + urls[i]\n",
    "    url_scrraper(url, countries[i])"
   ]
  },
  {
   "cell_type": "code",
   "execution_count": 6,
   "metadata": {
    "ExecuteTime": {
     "end_time": "2020-08-13T12:59:15.057979Z",
     "start_time": "2020-08-13T12:59:14.984015Z"
    }
   },
   "outputs": [],
   "source": [
    "# save contents in a dataframe\n",
    "data = pd.DataFrame(content[:], columns=headings[0])"
   ]
  },
  {
   "cell_type": "markdown",
   "metadata": {},
   "source": [
    "# Data Analysis"
   ]
  },
  {
   "cell_type": "markdown",
   "metadata": {},
   "source": [
    "## Let's first look at the data"
   ]
  },
  {
   "cell_type": "code",
   "execution_count": 7,
   "metadata": {
    "ExecuteTime": {
     "end_time": "2020-08-13T12:59:15.173746Z",
     "start_time": "2020-08-13T12:59:15.064893Z"
    }
   },
   "outputs": [
    {
     "data": {
      "text/html": [
       "<div>\n",
       "<style scoped>\n",
       "    .dataframe tbody tr th:only-of-type {\n",
       "        vertical-align: middle;\n",
       "    }\n",
       "\n",
       "    .dataframe tbody tr th {\n",
       "        vertical-align: top;\n",
       "    }\n",
       "\n",
       "    .dataframe thead th {\n",
       "        text-align: right;\n",
       "    }\n",
       "</style>\n",
       "<table border=\"1\" class=\"dataframe\">\n",
       "  <thead>\n",
       "    <tr style=\"text-align: right;\">\n",
       "      <th></th>\n",
       "      <th>Year</th>\n",
       "      <th>Country</th>\n",
       "      <th>Population</th>\n",
       "      <th>Yearly %  Change</th>\n",
       "      <th>Yearly Change</th>\n",
       "      <th>Migrants (net)</th>\n",
       "      <th>Median Age</th>\n",
       "      <th>Fertility Rate</th>\n",
       "      <th>Density (P/Km²)</th>\n",
       "      <th>Urban Pop %</th>\n",
       "      <th>Urban Population</th>\n",
       "      <th>Country's Share of World Pop</th>\n",
       "      <th>World Population</th>\n",
       "      <th>Holy SeeGlobal Rank</th>\n",
       "    </tr>\n",
       "  </thead>\n",
       "  <tbody>\n",
       "    <tr>\n",
       "      <th>0</th>\n",
       "      <td>2020</td>\n",
       "      <td>China</td>\n",
       "      <td>1,439,323,776</td>\n",
       "      <td>0.39 %</td>\n",
       "      <td>5,540,090</td>\n",
       "      <td>-348,399</td>\n",
       "      <td>38.4</td>\n",
       "      <td>1.69</td>\n",
       "      <td>153</td>\n",
       "      <td>60.8 %</td>\n",
       "      <td>875,075,919</td>\n",
       "      <td>18.47 %</td>\n",
       "      <td>7,794,798,739</td>\n",
       "      <td>1</td>\n",
       "    </tr>\n",
       "    <tr>\n",
       "      <th>1</th>\n",
       "      <td>2019</td>\n",
       "      <td>China</td>\n",
       "      <td>1,433,783,686</td>\n",
       "      <td>0.43 %</td>\n",
       "      <td>6,135,900</td>\n",
       "      <td>-348,399</td>\n",
       "      <td>37.0</td>\n",
       "      <td>1.65</td>\n",
       "      <td>153</td>\n",
       "      <td>59.7 %</td>\n",
       "      <td>856,409,297</td>\n",
       "      <td>18.59 %</td>\n",
       "      <td>7,713,468,100</td>\n",
       "      <td>1</td>\n",
       "    </tr>\n",
       "    <tr>\n",
       "      <th>2</th>\n",
       "      <td>2018</td>\n",
       "      <td>China</td>\n",
       "      <td>1,427,647,786</td>\n",
       "      <td>0.47 %</td>\n",
       "      <td>6,625,995</td>\n",
       "      <td>-348,399</td>\n",
       "      <td>37.0</td>\n",
       "      <td>1.65</td>\n",
       "      <td>152</td>\n",
       "      <td>58.6 %</td>\n",
       "      <td>837,022,095</td>\n",
       "      <td>18.71 %</td>\n",
       "      <td>7,631,091,040</td>\n",
       "      <td>1</td>\n",
       "    </tr>\n",
       "    <tr>\n",
       "      <th>3</th>\n",
       "      <td>2017</td>\n",
       "      <td>China</td>\n",
       "      <td>1,421,021,791</td>\n",
       "      <td>0.49 %</td>\n",
       "      <td>6,972,440</td>\n",
       "      <td>-348,399</td>\n",
       "      <td>37.0</td>\n",
       "      <td>1.65</td>\n",
       "      <td>151</td>\n",
       "      <td>57.5 %</td>\n",
       "      <td>816,957,613</td>\n",
       "      <td>18.83 %</td>\n",
       "      <td>7,547,858,925</td>\n",
       "      <td>1</td>\n",
       "    </tr>\n",
       "    <tr>\n",
       "      <th>4</th>\n",
       "      <td>2016</td>\n",
       "      <td>China</td>\n",
       "      <td>1,414,049,351</td>\n",
       "      <td>0.51 %</td>\n",
       "      <td>7,201,481</td>\n",
       "      <td>-348,399</td>\n",
       "      <td>37.0</td>\n",
       "      <td>1.65</td>\n",
       "      <td>151</td>\n",
       "      <td>56.3 %</td>\n",
       "      <td>796,289,491</td>\n",
       "      <td>18.94 %</td>\n",
       "      <td>7,464,022,049</td>\n",
       "      <td>1</td>\n",
       "    </tr>\n",
       "    <tr>\n",
       "      <th>...</th>\n",
       "      <td>...</td>\n",
       "      <td>...</td>\n",
       "      <td>...</td>\n",
       "      <td>...</td>\n",
       "      <td>...</td>\n",
       "      <td>...</td>\n",
       "      <td>...</td>\n",
       "      <td>...</td>\n",
       "      <td>...</td>\n",
       "      <td>...</td>\n",
       "      <td>...</td>\n",
       "      <td>...</td>\n",
       "      <td>...</td>\n",
       "      <td>...</td>\n",
       "    </tr>\n",
       "    <tr>\n",
       "      <th>4190</th>\n",
       "      <td>1975</td>\n",
       "      <td>Holy See</td>\n",
       "      <td>728</td>\n",
       "      <td>2.48 %</td>\n",
       "      <td>17</td>\n",
       "      <td>NaN</td>\n",
       "      <td>NaN</td>\n",
       "      <td>NaN</td>\n",
       "      <td>1,820</td>\n",
       "      <td>N.A.</td>\n",
       "      <td>N.A.</td>\n",
       "      <td>0 %</td>\n",
       "      <td>4,079,480,606</td>\n",
       "      <td>235</td>\n",
       "    </tr>\n",
       "    <tr>\n",
       "      <th>4191</th>\n",
       "      <td>1970</td>\n",
       "      <td>Holy See</td>\n",
       "      <td>644</td>\n",
       "      <td>-5.49 %</td>\n",
       "      <td>-42</td>\n",
       "      <td>NaN</td>\n",
       "      <td>NaN</td>\n",
       "      <td>NaN</td>\n",
       "      <td>1,610</td>\n",
       "      <td>N.A.</td>\n",
       "      <td>N.A.</td>\n",
       "      <td>0 %</td>\n",
       "      <td>3,700,437,046</td>\n",
       "      <td>235</td>\n",
       "    </tr>\n",
       "    <tr>\n",
       "      <th>4192</th>\n",
       "      <td>1965</td>\n",
       "      <td>Holy See</td>\n",
       "      <td>854</td>\n",
       "      <td>-1.18 %</td>\n",
       "      <td>-10</td>\n",
       "      <td>NaN</td>\n",
       "      <td>NaN</td>\n",
       "      <td>NaN</td>\n",
       "      <td>2,135</td>\n",
       "      <td>N.A.</td>\n",
       "      <td>N.A.</td>\n",
       "      <td>0 %</td>\n",
       "      <td>3,339,583,597</td>\n",
       "      <td>235</td>\n",
       "    </tr>\n",
       "    <tr>\n",
       "      <th>4193</th>\n",
       "      <td>1960</td>\n",
       "      <td>Holy See</td>\n",
       "      <td>906</td>\n",
       "      <td>-0.04 %</td>\n",
       "      <td>0</td>\n",
       "      <td>NaN</td>\n",
       "      <td>NaN</td>\n",
       "      <td>NaN</td>\n",
       "      <td>2,265</td>\n",
       "      <td>N.A.</td>\n",
       "      <td>N.A.</td>\n",
       "      <td>0 %</td>\n",
       "      <td>3,034,949,748</td>\n",
       "      <td>235</td>\n",
       "    </tr>\n",
       "    <tr>\n",
       "      <th>4194</th>\n",
       "      <td>1955</td>\n",
       "      <td>Holy See</td>\n",
       "      <td>908</td>\n",
       "      <td>0 %</td>\n",
       "      <td>0</td>\n",
       "      <td>NaN</td>\n",
       "      <td>NaN</td>\n",
       "      <td>NaN</td>\n",
       "      <td>2,270</td>\n",
       "      <td>N.A.</td>\n",
       "      <td>N.A.</td>\n",
       "      <td>0 %</td>\n",
       "      <td>2,773,019,936</td>\n",
       "      <td>235</td>\n",
       "    </tr>\n",
       "  </tbody>\n",
       "</table>\n",
       "<p>4195 rows × 14 columns</p>\n",
       "</div>"
      ],
      "text/plain": [
       "      Year   Country     Population Yearly %  Change Yearly Change  \\\n",
       "0     2020     China  1,439,323,776           0.39 %     5,540,090   \n",
       "1     2019     China  1,433,783,686           0.43 %     6,135,900   \n",
       "2     2018     China  1,427,647,786           0.47 %     6,625,995   \n",
       "3     2017     China  1,421,021,791           0.49 %     6,972,440   \n",
       "4     2016     China  1,414,049,351           0.51 %     7,201,481   \n",
       "...    ...       ...            ...              ...           ...   \n",
       "4190  1975  Holy See            728           2.48 %            17   \n",
       "4191  1970  Holy See            644          -5.49 %           -42   \n",
       "4192  1965  Holy See            854          -1.18 %           -10   \n",
       "4193  1960  Holy See            906          -0.04 %             0   \n",
       "4194  1955  Holy See            908              0 %             0   \n",
       "\n",
       "     Migrants (net) Median Age Fertility Rate Density (P/Km²) Urban Pop %  \\\n",
       "0          -348,399       38.4           1.69             153      60.8 %   \n",
       "1          -348,399       37.0           1.65             153      59.7 %   \n",
       "2          -348,399       37.0           1.65             152      58.6 %   \n",
       "3          -348,399       37.0           1.65             151      57.5 %   \n",
       "4          -348,399       37.0           1.65             151      56.3 %   \n",
       "...             ...        ...            ...             ...         ...   \n",
       "4190            NaN        NaN            NaN           1,820        N.A.   \n",
       "4191            NaN        NaN            NaN           1,610        N.A.   \n",
       "4192            NaN        NaN            NaN           2,135        N.A.   \n",
       "4193            NaN        NaN            NaN           2,265        N.A.   \n",
       "4194            NaN        NaN            NaN           2,270        N.A.   \n",
       "\n",
       "     Urban Population Country's Share of World Pop World Population  \\\n",
       "0         875,075,919                      18.47 %    7,794,798,739   \n",
       "1         856,409,297                      18.59 %    7,713,468,100   \n",
       "2         837,022,095                      18.71 %    7,631,091,040   \n",
       "3         816,957,613                      18.83 %    7,547,858,925   \n",
       "4         796,289,491                      18.94 %    7,464,022,049   \n",
       "...               ...                          ...              ...   \n",
       "4190             N.A.                          0 %    4,079,480,606   \n",
       "4191             N.A.                          0 %    3,700,437,046   \n",
       "4192             N.A.                          0 %    3,339,583,597   \n",
       "4193             N.A.                          0 %    3,034,949,748   \n",
       "4194             N.A.                          0 %    2,773,019,936   \n",
       "\n",
       "     Holy SeeGlobal Rank  \n",
       "0                      1  \n",
       "1                      1  \n",
       "2                      1  \n",
       "3                      1  \n",
       "4                      1  \n",
       "...                  ...  \n",
       "4190                 235  \n",
       "4191                 235  \n",
       "4192                 235  \n",
       "4193                 235  \n",
       "4194                 235  \n",
       "\n",
       "[4195 rows x 14 columns]"
      ]
     },
     "execution_count": 7,
     "metadata": {},
     "output_type": "execute_result"
    }
   ],
   "source": [
    "data"
   ]
  },
  {
   "cell_type": "markdown",
   "metadata": {},
   "source": [
    "## Look at Example Records"
   ]
  },
  {
   "cell_type": "code",
   "execution_count": 8,
   "metadata": {
    "ExecuteTime": {
     "end_time": "2020-08-13T12:59:15.367888Z",
     "start_time": "2020-08-13T12:59:15.210158Z"
    }
   },
   "outputs": [
    {
     "data": {
      "text/html": [
       "<div>\n",
       "<style scoped>\n",
       "    .dataframe tbody tr th:only-of-type {\n",
       "        vertical-align: middle;\n",
       "    }\n",
       "\n",
       "    .dataframe tbody tr th {\n",
       "        vertical-align: top;\n",
       "    }\n",
       "\n",
       "    .dataframe thead th {\n",
       "        text-align: right;\n",
       "    }\n",
       "</style>\n",
       "<table border=\"1\" class=\"dataframe\">\n",
       "  <thead>\n",
       "    <tr style=\"text-align: right;\">\n",
       "      <th></th>\n",
       "      <th>Year</th>\n",
       "      <th>Country</th>\n",
       "      <th>Population</th>\n",
       "      <th>Yearly %  Change</th>\n",
       "      <th>Yearly Change</th>\n",
       "      <th>Migrants (net)</th>\n",
       "      <th>Median Age</th>\n",
       "      <th>Fertility Rate</th>\n",
       "      <th>Density (P/Km²)</th>\n",
       "      <th>Urban Pop %</th>\n",
       "      <th>Urban Population</th>\n",
       "      <th>Country's Share of World Pop</th>\n",
       "      <th>World Population</th>\n",
       "      <th>Holy SeeGlobal Rank</th>\n",
       "    </tr>\n",
       "  </thead>\n",
       "  <tbody>\n",
       "    <tr>\n",
       "      <th>0</th>\n",
       "      <td>2020</td>\n",
       "      <td>China</td>\n",
       "      <td>1,439,323,776</td>\n",
       "      <td>0.39 %</td>\n",
       "      <td>5,540,090</td>\n",
       "      <td>-348,399</td>\n",
       "      <td>38.4</td>\n",
       "      <td>1.69</td>\n",
       "      <td>153</td>\n",
       "      <td>60.8 %</td>\n",
       "      <td>875,075,919</td>\n",
       "      <td>18.47 %</td>\n",
       "      <td>7,794,798,739</td>\n",
       "      <td>1</td>\n",
       "    </tr>\n",
       "    <tr>\n",
       "      <th>1</th>\n",
       "      <td>2019</td>\n",
       "      <td>China</td>\n",
       "      <td>1,433,783,686</td>\n",
       "      <td>0.43 %</td>\n",
       "      <td>6,135,900</td>\n",
       "      <td>-348,399</td>\n",
       "      <td>37.0</td>\n",
       "      <td>1.65</td>\n",
       "      <td>153</td>\n",
       "      <td>59.7 %</td>\n",
       "      <td>856,409,297</td>\n",
       "      <td>18.59 %</td>\n",
       "      <td>7,713,468,100</td>\n",
       "      <td>1</td>\n",
       "    </tr>\n",
       "    <tr>\n",
       "      <th>2</th>\n",
       "      <td>2018</td>\n",
       "      <td>China</td>\n",
       "      <td>1,427,647,786</td>\n",
       "      <td>0.47 %</td>\n",
       "      <td>6,625,995</td>\n",
       "      <td>-348,399</td>\n",
       "      <td>37.0</td>\n",
       "      <td>1.65</td>\n",
       "      <td>152</td>\n",
       "      <td>58.6 %</td>\n",
       "      <td>837,022,095</td>\n",
       "      <td>18.71 %</td>\n",
       "      <td>7,631,091,040</td>\n",
       "      <td>1</td>\n",
       "    </tr>\n",
       "    <tr>\n",
       "      <th>3</th>\n",
       "      <td>2017</td>\n",
       "      <td>China</td>\n",
       "      <td>1,421,021,791</td>\n",
       "      <td>0.49 %</td>\n",
       "      <td>6,972,440</td>\n",
       "      <td>-348,399</td>\n",
       "      <td>37.0</td>\n",
       "      <td>1.65</td>\n",
       "      <td>151</td>\n",
       "      <td>57.5 %</td>\n",
       "      <td>816,957,613</td>\n",
       "      <td>18.83 %</td>\n",
       "      <td>7,547,858,925</td>\n",
       "      <td>1</td>\n",
       "    </tr>\n",
       "    <tr>\n",
       "      <th>4</th>\n",
       "      <td>2016</td>\n",
       "      <td>China</td>\n",
       "      <td>1,414,049,351</td>\n",
       "      <td>0.51 %</td>\n",
       "      <td>7,201,481</td>\n",
       "      <td>-348,399</td>\n",
       "      <td>37.0</td>\n",
       "      <td>1.65</td>\n",
       "      <td>151</td>\n",
       "      <td>56.3 %</td>\n",
       "      <td>796,289,491</td>\n",
       "      <td>18.94 %</td>\n",
       "      <td>7,464,022,049</td>\n",
       "      <td>1</td>\n",
       "    </tr>\n",
       "  </tbody>\n",
       "</table>\n",
       "</div>"
      ],
      "text/plain": [
       "   Year Country     Population Yearly %  Change Yearly Change Migrants (net)  \\\n",
       "0  2020   China  1,439,323,776           0.39 %     5,540,090       -348,399   \n",
       "1  2019   China  1,433,783,686           0.43 %     6,135,900       -348,399   \n",
       "2  2018   China  1,427,647,786           0.47 %     6,625,995       -348,399   \n",
       "3  2017   China  1,421,021,791           0.49 %     6,972,440       -348,399   \n",
       "4  2016   China  1,414,049,351           0.51 %     7,201,481       -348,399   \n",
       "\n",
       "  Median Age Fertility Rate Density (P/Km²) Urban Pop % Urban Population  \\\n",
       "0       38.4           1.69             153      60.8 %      875,075,919   \n",
       "1       37.0           1.65             153      59.7 %      856,409,297   \n",
       "2       37.0           1.65             152      58.6 %      837,022,095   \n",
       "3       37.0           1.65             151      57.5 %      816,957,613   \n",
       "4       37.0           1.65             151      56.3 %      796,289,491   \n",
       "\n",
       "  Country's Share of World Pop World Population Holy SeeGlobal Rank  \n",
       "0                      18.47 %    7,794,798,739                   1  \n",
       "1                      18.59 %    7,713,468,100                   1  \n",
       "2                      18.71 %    7,631,091,040                   1  \n",
       "3                      18.83 %    7,547,858,925                   1  \n",
       "4                      18.94 %    7,464,022,049                   1  "
      ]
     },
     "execution_count": 8,
     "metadata": {},
     "output_type": "execute_result"
    }
   ],
   "source": [
    "# check few top rows of data\n",
    "data.head()"
   ]
  },
  {
   "cell_type": "markdown",
   "metadata": {},
   "source": [
    "## Descriptive Statistics"
   ]
  },
  {
   "cell_type": "code",
   "execution_count": 9,
   "metadata": {
    "ExecuteTime": {
     "end_time": "2020-08-13T12:59:15.595670Z",
     "start_time": "2020-08-13T12:59:15.400914Z"
    }
   },
   "outputs": [
    {
     "data": {
      "text/html": [
       "<div>\n",
       "<style scoped>\n",
       "    .dataframe tbody tr th:only-of-type {\n",
       "        vertical-align: middle;\n",
       "    }\n",
       "\n",
       "    .dataframe tbody tr th {\n",
       "        vertical-align: top;\n",
       "    }\n",
       "\n",
       "    .dataframe thead th {\n",
       "        text-align: right;\n",
       "    }\n",
       "</style>\n",
       "<table border=\"1\" class=\"dataframe\">\n",
       "  <thead>\n",
       "    <tr style=\"text-align: right;\">\n",
       "      <th></th>\n",
       "      <th>Year</th>\n",
       "      <th>Country</th>\n",
       "      <th>Population</th>\n",
       "      <th>Yearly %  Change</th>\n",
       "      <th>Yearly Change</th>\n",
       "      <th>Migrants (net)</th>\n",
       "      <th>Median Age</th>\n",
       "      <th>Fertility Rate</th>\n",
       "      <th>Density (P/Km²)</th>\n",
       "      <th>Urban Pop %</th>\n",
       "      <th>Urban Population</th>\n",
       "      <th>Country's Share of World Pop</th>\n",
       "      <th>World Population</th>\n",
       "      <th>Holy SeeGlobal Rank</th>\n",
       "    </tr>\n",
       "  </thead>\n",
       "  <tbody>\n",
       "    <tr>\n",
       "      <th>count</th>\n",
       "      <td>4195</td>\n",
       "      <td>4195</td>\n",
       "      <td>4195</td>\n",
       "      <td>4195</td>\n",
       "      <td>4195</td>\n",
       "      <td>3600</td>\n",
       "      <td>3600</td>\n",
       "      <td>3600</td>\n",
       "      <td>4195</td>\n",
       "      <td>4195</td>\n",
       "      <td>4195</td>\n",
       "      <td>4195</td>\n",
       "      <td>4195</td>\n",
       "      <td>4195</td>\n",
       "    </tr>\n",
       "    <tr>\n",
       "      <th>unique</th>\n",
       "      <td>18</td>\n",
       "      <td>235</td>\n",
       "      <td>4192</td>\n",
       "      <td>740</td>\n",
       "      <td>3956</td>\n",
       "      <td>2253</td>\n",
       "      <td>311</td>\n",
       "      <td>643</td>\n",
       "      <td>723</td>\n",
       "      <td>973</td>\n",
       "      <td>3985</td>\n",
       "      <td>291</td>\n",
       "      <td>18</td>\n",
       "      <td>235</td>\n",
       "    </tr>\n",
       "    <tr>\n",
       "      <th>top</th>\n",
       "      <td>2005</td>\n",
       "      <td>Madagascar</td>\n",
       "      <td>801</td>\n",
       "      <td>0.73 %</td>\n",
       "      <td>0</td>\n",
       "      <td>0</td>\n",
       "      <td>17.6</td>\n",
       "      <td>1.72</td>\n",
       "      <td>4</td>\n",
       "      <td>N.A.</td>\n",
       "      <td>N.A.</td>\n",
       "      <td>0.00 %</td>\n",
       "      <td>3,700,437,046</td>\n",
       "      <td>39</td>\n",
       "    </tr>\n",
       "    <tr>\n",
       "      <th>freq</th>\n",
       "      <td>235</td>\n",
       "      <td>18</td>\n",
       "      <td>2</td>\n",
       "      <td>24</td>\n",
       "      <td>6</td>\n",
       "      <td>152</td>\n",
       "      <td>48</td>\n",
       "      <td>25</td>\n",
       "      <td>87</td>\n",
       "      <td>113</td>\n",
       "      <td>113</td>\n",
       "      <td>546</td>\n",
       "      <td>235</td>\n",
       "      <td>18</td>\n",
       "    </tr>\n",
       "  </tbody>\n",
       "</table>\n",
       "</div>"
      ],
      "text/plain": [
       "        Year     Country Population Yearly %  Change Yearly Change  \\\n",
       "count   4195        4195       4195             4195          4195   \n",
       "unique    18         235       4192              740          3956   \n",
       "top     2005  Madagascar        801           0.73 %             0   \n",
       "freq     235          18          2               24             6   \n",
       "\n",
       "       Migrants (net) Median Age Fertility Rate Density (P/Km²) Urban Pop %  \\\n",
       "count            3600       3600           3600            4195        4195   \n",
       "unique           2253        311            643             723         973   \n",
       "top                 0       17.6           1.72               4        N.A.   \n",
       "freq              152         48             25              87         113   \n",
       "\n",
       "       Urban Population Country's Share of World Pop World Population  \\\n",
       "count              4195                         4195             4195   \n",
       "unique             3985                          291               18   \n",
       "top                N.A.                       0.00 %    3,700,437,046   \n",
       "freq                113                          546              235   \n",
       "\n",
       "       Holy SeeGlobal Rank  \n",
       "count                 4195  \n",
       "unique                 235  \n",
       "top                     39  \n",
       "freq                    18  "
      ]
     },
     "execution_count": 9,
     "metadata": {},
     "output_type": "execute_result"
    }
   ],
   "source": [
    "# getting Generate descriptive statistics of data. Generate descriptive statistics include count, mean, std, min_value, 25%, 50%, 75%, max_value\n",
    "data.describe()"
   ]
  },
  {
   "cell_type": "markdown",
   "metadata": {},
   "source": [
    "## Summary of data-type, columns, non-null values, memory usage."
   ]
  },
  {
   "cell_type": "code",
   "execution_count": 10,
   "metadata": {
    "ExecuteTime": {
     "end_time": "2020-08-13T12:59:15.639660Z",
     "start_time": "2020-08-13T12:59:15.606644Z"
    }
   },
   "outputs": [
    {
     "name": "stdout",
     "output_type": "stream",
     "text": [
      "<class 'pandas.core.frame.DataFrame'>\n",
      "RangeIndex: 4195 entries, 0 to 4194\n",
      "Data columns (total 14 columns):\n",
      " #   Column                        Non-Null Count  Dtype \n",
      "---  ------                        --------------  ----- \n",
      " 0   Year                          4195 non-null   object\n",
      " 1   Country                       4195 non-null   object\n",
      " 2   Population                    4195 non-null   object\n",
      " 3   Yearly %  Change              4195 non-null   object\n",
      " 4   Yearly Change                 4195 non-null   object\n",
      " 5   Migrants (net)                3600 non-null   object\n",
      " 6   Median Age                    3600 non-null   object\n",
      " 7   Fertility Rate                3600 non-null   object\n",
      " 8   Density (P/Km²)               4195 non-null   object\n",
      " 9   Urban Pop %                   4195 non-null   object\n",
      " 10  Urban Population              4195 non-null   object\n",
      " 11  Country's Share of World Pop  4195 non-null   object\n",
      " 12  World Population              4195 non-null   object\n",
      " 13  Holy SeeGlobal Rank           4195 non-null   object\n",
      "dtypes: object(14)\n",
      "memory usage: 459.0+ KB\n"
     ]
    }
   ],
   "source": [
    "# data info\n",
    "data.info()"
   ]
  },
  {
   "cell_type": "markdown",
   "metadata": {},
   "source": [
    "## Column labels"
   ]
  },
  {
   "cell_type": "code",
   "execution_count": 11,
   "metadata": {
    "ExecuteTime": {
     "end_time": "2020-08-13T12:59:15.661536Z",
     "start_time": "2020-08-13T12:59:15.651684Z"
    }
   },
   "outputs": [
    {
     "data": {
      "text/plain": [
       "Index(['Year', 'Country', 'Population', 'Yearly %  Change', 'Yearly Change',\n",
       "       'Migrants (net)', 'Median Age', 'Fertility Rate', 'Density (P/Km²)',\n",
       "       'Urban Pop %', 'Urban Population', 'Country's Share of World Pop',\n",
       "       'World Population', 'Holy SeeGlobal Rank'],\n",
       "      dtype='object')"
      ]
     },
     "execution_count": 11,
     "metadata": {},
     "output_type": "execute_result"
    }
   ],
   "source": [
    "# get the column labels of the data.\n",
    "data.columns"
   ]
  },
  {
   "cell_type": "markdown",
   "metadata": {},
   "source": [
    "# Data Cleaning"
   ]
  },
  {
   "cell_type": "markdown",
   "metadata": {},
   "source": [
    "## Rename Column Name"
   ]
  },
  {
   "cell_type": "markdown",
   "metadata": {},
   "source": [
    "Rename Holy SeeGlobal Rank column name to Country Global Rank and Country's Share of World Pop to Country's Share of World Pop %."
   ]
  },
  {
   "cell_type": "code",
   "execution_count": 12,
   "metadata": {
    "ExecuteTime": {
     "end_time": "2020-08-13T12:59:15.692567Z",
     "start_time": "2020-08-13T12:59:15.673896Z"
    }
   },
   "outputs": [],
   "source": [
    "# rename column name\n",
    "data = data.rename(columns={'Holy SeeGlobal Rank':'Country Global Rank', \n",
    "                            'Country\\'s Share of World Pop':'Country\\'s Share of World Pop %',\n",
    "                            'Yearly %  Change':'Yearly % Change'})"
   ]
  },
  {
   "cell_type": "markdown",
   "metadata": {},
   "source": [
    "## Remove unwanted symbols (like %, thousand comma from integer(,), etc..)"
   ]
  },
  {
   "cell_type": "code",
   "execution_count": 13,
   "metadata": {
    "ExecuteTime": {
     "end_time": "2020-08-13T12:59:15.791824Z",
     "start_time": "2020-08-13T12:59:15.702499Z"
    }
   },
   "outputs": [],
   "source": [
    "# remove % from columns\n",
    "data[\"Yearly % Change\"] = data[\"Yearly % Change\"].str.replace('%','')\n",
    "data['Urban Pop %'] = data['Urban Pop %'].str.replace('%','')\n",
    "data['Country\\'s Share of World Pop %'] = data['Country\\'s Share of World Pop %'].str.replace('%','')\n",
    "\n",
    "# remove ',' from columns\n",
    "data['Population'] = data['Population'].str.replace(',','')\n",
    "data['Yearly Change'] = data['Yearly Change'].str.replace(',','')\n",
    "data['Migrants (net)'] = data['Migrants (net)'].str.replace(',','')\n",
    "data['Urban Population'] = data['Urban Population'].str.replace(',','')\n",
    "data['World Population'] = data['World Population'].str.replace(',','')\n",
    "data['Density (P/Km²)'] = data['Density (P/Km²)'].str.replace(',','')\n",
    "\n",
    "# replace N.A. values to np.nan values\n",
    "data['Urban Pop %'] = data['Urban Pop %'].replace('N.A.', np.nan)\n",
    "data['Urban Population'] = data['Urban Population'].replace('N.A.', np.nan)"
   ]
  },
  {
   "cell_type": "markdown",
   "metadata": {},
   "source": [
    "# Save Data into CSV"
   ]
  },
  {
   "cell_type": "code",
   "execution_count": 14,
   "metadata": {
    "ExecuteTime": {
     "end_time": "2020-08-13T12:59:15.862432Z",
     "start_time": "2020-08-13T12:59:15.800863Z"
    }
   },
   "outputs": [],
   "source": [
    "# save data\n",
    "data.to_csv('PopulationByCountryHistory.csv', index=False)"
   ]
  }
 ],
 "metadata": {
  "kernelspec": {
   "display_name": "Python 3",
   "language": "python",
   "name": "python3"
  },
  "language_info": {
   "codemirror_mode": {
    "name": "ipython",
    "version": 3
   },
   "file_extension": ".py",
   "mimetype": "text/x-python",
   "name": "python",
   "nbconvert_exporter": "python",
   "pygments_lexer": "ipython3",
   "version": "3.8.4"
  },
  "latex_envs": {
   "LaTeX_envs_menu_present": true,
   "autoclose": false,
   "autocomplete": true,
   "bibliofile": "biblio.bib",
   "cite_by": "apalike",
   "current_citInitial": 1,
   "eqLabelWithNumbers": true,
   "eqNumInitial": 1,
   "hotkeys": {
    "equation": "Ctrl-E",
    "itemize": "Ctrl-I"
   },
   "labels_anchors": false,
   "latex_user_defs": false,
   "report_style_numbering": false,
   "user_envs_cfg": false
  },
  "toc": {
   "base_numbering": 1,
   "nav_menu": {},
   "number_sections": true,
   "sideBar": true,
   "skip_h1_title": false,
   "title_cell": "Table of Contents",
   "title_sidebar": "Contents",
   "toc_cell": false,
   "toc_position": {},
   "toc_section_display": true,
   "toc_window_display": false
  },
  "varInspector": {
   "cols": {
    "lenName": 16,
    "lenType": 16,
    "lenVar": 40
   },
   "kernels_config": {
    "python": {
     "delete_cmd_postfix": "",
     "delete_cmd_prefix": "del ",
     "library": "var_list.py",
     "varRefreshCmd": "print(var_dic_list())"
    },
    "r": {
     "delete_cmd_postfix": ") ",
     "delete_cmd_prefix": "rm(",
     "library": "var_list.r",
     "varRefreshCmd": "cat(var_dic_list()) "
    }
   },
   "types_to_exclude": [
    "module",
    "function",
    "builtin_function_or_method",
    "instance",
    "_Feature"
   ],
   "window_display": false
  }
 },
 "nbformat": 4,
 "nbformat_minor": 4
}
