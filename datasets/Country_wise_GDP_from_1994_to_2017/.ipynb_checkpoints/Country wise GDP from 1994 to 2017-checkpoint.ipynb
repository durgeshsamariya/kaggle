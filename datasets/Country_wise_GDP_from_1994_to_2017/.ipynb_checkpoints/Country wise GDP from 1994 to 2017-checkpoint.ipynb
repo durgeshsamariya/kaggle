{
 "cells": [
  {
   "cell_type": "markdown",
   "metadata": {},
   "source": [
    "# Import Libraries\n",
    "Importing libraries are necessary for any project.\n",
    "We're going to import commonly used Webscrapping and Data Analysis libraries. Make sure all libraries are installed."
   ]
  },
  {
   "cell_type": "code",
   "execution_count": 1,
   "metadata": {
    "ExecuteTime": {
     "end_time": "2020-09-12T05:12:10.122541Z",
     "start_time": "2020-09-12T05:12:09.025000Z"
    }
   },
   "outputs": [],
   "source": [
    "import requests # for getting web contents\n",
    "from bs4 import BeautifulSoup # for scraping web contents\n",
    "import pandas as pd # for data analysis"
   ]
  },
  {
   "cell_type": "markdown",
   "metadata": {},
   "source": [
    "# URL\n",
    "For web scrapping it's important to have url."
   ]
  },
  {
   "cell_type": "code",
   "execution_count": 2,
   "metadata": {
    "ExecuteTime": {
     "end_time": "2020-09-12T05:12:11.452405Z",
     "start_time": "2020-09-12T05:12:10.127315Z"
    }
   },
   "outputs": [],
   "source": [
    "# link of web page that you want to scrap data\n",
    "URL = 'https://www.worldometers.info/gdp/gdp-by-country/'\n",
    "\n",
    "# get web data\n",
    "page = requests.get(URL)\n",
    "\n",
    "# parse web data\n",
    "soup = BeautifulSoup(page.content, \"html.parser\")"
   ]
  },
  {
   "cell_type": "code",
   "execution_count": 3,
   "metadata": {
    "ExecuteTime": {
     "end_time": "2020-09-12T05:12:11.505266Z",
     "start_time": "2020-09-12T05:12:11.457356Z"
    }
   },
   "outputs": [],
   "source": [
    "# find the table\n",
    "# our trageted table is last\n",
    "\n",
    "# getting the table body\n",
    "html_tbody = soup.find_all('tbody')[-1]\n",
    "\n",
    "#getting all the rows in table body\n",
    "html_text = [tr for tr in html_tbody.find_all('tr')]\n",
    "\n",
    "urls = []\n",
    "countries = []\n",
    "\n",
    "# loop through table body\n",
    "for tr in html_text:\n",
    "    # getting all th, td\n",
    "    th = tr.find_all(['th','td'])\n",
    "    # storing all th value in row and removing white space\n",
    "    # append content\n",
    "    country = th[1].get_text()\n",
    "    url = th[1].find('a')['href']\n",
    "    urls.append(url)\n",
    "    countries.append(country)"
   ]
  },
  {
   "cell_type": "code",
   "execution_count": 4,
   "metadata": {
    "ExecuteTime": {
     "end_time": "2020-09-12T05:12:11.522538Z",
     "start_time": "2020-09-12T05:12:11.509207Z"
    }
   },
   "outputs": [],
   "source": [
    "# function to scrape values from each url\n",
    "def url_scrraper(url,country):\n",
    "    page = requests.get(url)\n",
    "    soup = BeautifulSoup(page.content, \"html.parser\")\n",
    "    table = soup.find_all('table')[0]\n",
    "    # getting the table head because it may contains headings (column names)\n",
    "    html_thead = soup.find_all('thead')[0]\n",
    "\n",
    "    #getting all the rows in table head\n",
    "    html_tr = [tr for tr in html_thead.find_all('tr')]\n",
    "\n",
    "    # loop through table head\n",
    "    for tr in html_tr:\n",
    "        # getting all th\n",
    "        th = tr.find_all(['th'])\n",
    "        # storing all th value in row and removing white space\n",
    "        row = [i.text.strip() for i in th]\n",
    "        row.insert(1, 'Country')\n",
    "        # append headings \n",
    "        headings.append(row)\n",
    "    \n",
    "    # getting the table body\n",
    "    html_tbody = soup.find_all('tbody')[0]\n",
    "\n",
    "    #getting all the rows in table body\n",
    "    html_text = [tr for tr in html_tbody.find_all('tr')]\n",
    "\n",
    "\n",
    "    # loop through table body\n",
    "    for tr in html_text:\n",
    "        # getting all th, td\n",
    "        th = tr.find_all(['th','td'])\n",
    "        # storing all th value in row and removing white space\n",
    "        row = [i.text.strip() for i in th]\n",
    "        row.insert(1, country)\n",
    "        # append content\n",
    "        content.append(row)"
   ]
  },
  {
   "cell_type": "code",
   "execution_count": 5,
   "metadata": {
    "ExecuteTime": {
     "end_time": "2020-09-12T05:14:56.344721Z",
     "start_time": "2020-09-12T05:12:11.527574Z"
    }
   },
   "outputs": [],
   "source": [
    "base_url = 'https://www.worldometers.info'\n",
    "content = []\n",
    "\n",
    "for i in range(len(countries)):\n",
    "    headings = []\n",
    "    if type(urls[i]) == list:\n",
    "        url = base_url + urls[i][0]\n",
    "    else:\n",
    "        url = base_url + urls[i]\n",
    "    url_scrraper(url, countries[i])"
   ]
  },
  {
   "cell_type": "code",
   "execution_count": 6,
   "metadata": {
    "ExecuteTime": {
     "end_time": "2020-09-12T05:14:56.375906Z",
     "start_time": "2020-09-12T05:14:56.348466Z"
    }
   },
   "outputs": [],
   "source": [
    "# save contents in a dataframe\n",
    "data = pd.DataFrame(content[:], columns=headings[0])"
   ]
  },
  {
   "cell_type": "markdown",
   "metadata": {},
   "source": [
    "# Data Analysis"
   ]
  },
  {
   "cell_type": "markdown",
   "metadata": {},
   "source": [
    "## Look at Example Records"
   ]
  },
  {
   "cell_type": "code",
   "execution_count": 7,
   "metadata": {
    "ExecuteTime": {
     "end_time": "2020-09-12T05:14:56.438987Z",
     "start_time": "2020-09-12T05:14:56.379442Z"
    }
   },
   "outputs": [
    {
     "data": {
      "text/html": [
       "<div>\n",
       "<style scoped>\n",
       "    .dataframe tbody tr th:only-of-type {\n",
       "        vertical-align: middle;\n",
       "    }\n",
       "\n",
       "    .dataframe tbody tr th {\n",
       "        vertical-align: top;\n",
       "    }\n",
       "\n",
       "    .dataframe thead th {\n",
       "        text-align: right;\n",
       "    }\n",
       "</style>\n",
       "<table border=\"1\" class=\"dataframe\">\n",
       "  <thead>\n",
       "    <tr style=\"text-align: right;\">\n",
       "      <th></th>\n",
       "      <th>Year</th>\n",
       "      <th>Country</th>\n",
       "      <th>GDP Nominal (Current USD)</th>\n",
       "      <th>GDP Real  (Inflation adj.)</th>\n",
       "      <th>GDP change</th>\n",
       "      <th>GDP per capita</th>\n",
       "      <th>Pop. change</th>\n",
       "      <th>Population</th>\n",
       "    </tr>\n",
       "  </thead>\n",
       "  <tbody>\n",
       "    <tr>\n",
       "      <th>0</th>\n",
       "      <td>2017</td>\n",
       "      <td>United States</td>\n",
       "      <td>$19,485,394,000,000</td>\n",
       "      <td>$17,348,625,758,200</td>\n",
       "      <td>2.27%</td>\n",
       "      <td>$53,366</td>\n",
       "      <td>0.64 %</td>\n",
       "      <td>325,084,756</td>\n",
       "    </tr>\n",
       "    <tr>\n",
       "      <th>1</th>\n",
       "      <td>2016</td>\n",
       "      <td>United States</td>\n",
       "      <td>$18,707,189,000,000</td>\n",
       "      <td>$16,972,347,070,400</td>\n",
       "      <td>1.49%</td>\n",
       "      <td>$52,543</td>\n",
       "      <td>0.67 %</td>\n",
       "      <td>323,015,995</td>\n",
       "    </tr>\n",
       "    <tr>\n",
       "      <th>2</th>\n",
       "      <td>2015</td>\n",
       "      <td>United States</td>\n",
       "      <td>$18,219,297,000,000</td>\n",
       "      <td>$16,710,458,234,000</td>\n",
       "      <td>2.86%</td>\n",
       "      <td>$52,077</td>\n",
       "      <td>0.69 %</td>\n",
       "      <td>320,878,310</td>\n",
       "    </tr>\n",
       "    <tr>\n",
       "      <th>3</th>\n",
       "      <td>2014</td>\n",
       "      <td>United States</td>\n",
       "      <td>$17,521,747,000,000</td>\n",
       "      <td>$16,242,525,613,600</td>\n",
       "      <td>2.57%</td>\n",
       "      <td>$50,969</td>\n",
       "      <td>0.72 %</td>\n",
       "      <td>318,673,411</td>\n",
       "    </tr>\n",
       "    <tr>\n",
       "      <th>4</th>\n",
       "      <td>2013</td>\n",
       "      <td>United States</td>\n",
       "      <td>$16,784,851,000,000</td>\n",
       "      <td>$15,853,794,839,100</td>\n",
       "      <td>1.68%</td>\n",
       "      <td>$50,107</td>\n",
       "      <td>0.75 %</td>\n",
       "      <td>316,400,538</td>\n",
       "    </tr>\n",
       "  </tbody>\n",
       "</table>\n",
       "</div>"
      ],
      "text/plain": [
       "   Year        Country GDP Nominal (Current USD) GDP Real  (Inflation adj.)  \\\n",
       "0  2017  United States       $19,485,394,000,000        $17,348,625,758,200   \n",
       "1  2016  United States       $18,707,189,000,000        $16,972,347,070,400   \n",
       "2  2015  United States       $18,219,297,000,000        $16,710,458,234,000   \n",
       "3  2014  United States       $17,521,747,000,000        $16,242,525,613,600   \n",
       "4  2013  United States       $16,784,851,000,000        $15,853,794,839,100   \n",
       "\n",
       "  GDP change GDP per capita Pop. change   Population  \n",
       "0      2.27%        $53,366      0.64 %  325,084,756  \n",
       "1      1.49%        $52,543      0.67 %  323,015,995  \n",
       "2      2.86%        $52,077      0.69 %  320,878,310  \n",
       "3      2.57%        $50,969      0.72 %  318,673,411  \n",
       "4      1.68%        $50,107      0.75 %  316,400,538  "
      ]
     },
     "execution_count": 7,
     "metadata": {},
     "output_type": "execute_result"
    }
   ],
   "source": [
    "# check few top rows of data\n",
    "data.head()"
   ]
  },
  {
   "cell_type": "markdown",
   "metadata": {},
   "source": [
    "## Descriptive Statistics"
   ]
  },
  {
   "cell_type": "code",
   "execution_count": 8,
   "metadata": {
    "ExecuteTime": {
     "end_time": "2020-09-12T05:14:56.584757Z",
     "start_time": "2020-09-12T05:14:56.510400Z"
    }
   },
   "outputs": [
    {
     "data": {
      "text/html": [
       "<div>\n",
       "<style scoped>\n",
       "    .dataframe tbody tr th:only-of-type {\n",
       "        vertical-align: middle;\n",
       "    }\n",
       "\n",
       "    .dataframe tbody tr th {\n",
       "        vertical-align: top;\n",
       "    }\n",
       "\n",
       "    .dataframe thead th {\n",
       "        text-align: right;\n",
       "    }\n",
       "</style>\n",
       "<table border=\"1\" class=\"dataframe\">\n",
       "  <thead>\n",
       "    <tr style=\"text-align: right;\">\n",
       "      <th></th>\n",
       "      <th>Year</th>\n",
       "      <th>Country</th>\n",
       "      <th>GDP Nominal (Current USD)</th>\n",
       "      <th>GDP Real  (Inflation adj.)</th>\n",
       "      <th>GDP change</th>\n",
       "      <th>GDP per capita</th>\n",
       "      <th>Pop. change</th>\n",
       "      <th>Population</th>\n",
       "    </tr>\n",
       "  </thead>\n",
       "  <tbody>\n",
       "    <tr>\n",
       "      <th>count</th>\n",
       "      <td>4326</td>\n",
       "      <td>4326</td>\n",
       "      <td>4326</td>\n",
       "      <td>4326</td>\n",
       "      <td>4326</td>\n",
       "      <td>4326</td>\n",
       "      <td>4326</td>\n",
       "      <td>4326</td>\n",
       "    </tr>\n",
       "    <tr>\n",
       "      <th>unique</th>\n",
       "      <td>24</td>\n",
       "      <td>189</td>\n",
       "      <td>4325</td>\n",
       "      <td>4308</td>\n",
       "      <td>1514</td>\n",
       "      <td>3658</td>\n",
       "      <td>655</td>\n",
       "      <td>4325</td>\n",
       "    </tr>\n",
       "    <tr>\n",
       "      <th>top</th>\n",
       "      <td>2017</td>\n",
       "      <td>Kiribati</td>\n",
       "      <td>$234,648,370,497</td>\n",
       "      <td>$0</td>\n",
       "      <td>0.00%</td>\n",
       "      <td>$0</td>\n",
       "      <td>0.50 %</td>\n",
       "      <td>9,323</td>\n",
       "    </tr>\n",
       "    <tr>\n",
       "      <th>freq</th>\n",
       "      <td>189</td>\n",
       "      <td>24</td>\n",
       "      <td>2</td>\n",
       "      <td>14</td>\n",
       "      <td>22</td>\n",
       "      <td>14</td>\n",
       "      <td>23</td>\n",
       "      <td>2</td>\n",
       "    </tr>\n",
       "  </tbody>\n",
       "</table>\n",
       "</div>"
      ],
      "text/plain": [
       "        Year   Country GDP Nominal (Current USD) GDP Real  (Inflation adj.)  \\\n",
       "count   4326      4326                      4326                       4326   \n",
       "unique    24       189                      4325                       4308   \n",
       "top     2017  Kiribati          $234,648,370,497                         $0   \n",
       "freq     189        24                         2                         14   \n",
       "\n",
       "       GDP change GDP per capita Pop. change Population  \n",
       "count        4326           4326        4326       4326  \n",
       "unique       1514           3658         655       4325  \n",
       "top         0.00%             $0      0.50 %      9,323  \n",
       "freq           22             14          23          2  "
      ]
     },
     "execution_count": 8,
     "metadata": {},
     "output_type": "execute_result"
    }
   ],
   "source": [
    "# getting Generate descriptive statistics of data. Generate descriptive statistics include count, mean, std, min_value, 25%, 50%, 75%, max_value\n",
    "data.describe()"
   ]
  },
  {
   "cell_type": "markdown",
   "metadata": {},
   "source": [
    "## Summary of data-type, columns, non-null values, memory usage."
   ]
  },
  {
   "cell_type": "code",
   "execution_count": 9,
   "metadata": {
    "ExecuteTime": {
     "end_time": "2020-09-12T05:14:56.604947Z",
     "start_time": "2020-09-12T05:14:56.590447Z"
    }
   },
   "outputs": [
    {
     "name": "stdout",
     "output_type": "stream",
     "text": [
      "<class 'pandas.core.frame.DataFrame'>\n",
      "RangeIndex: 4326 entries, 0 to 4325\n",
      "Data columns (total 8 columns):\n",
      " #   Column                      Non-Null Count  Dtype \n",
      "---  ------                      --------------  ----- \n",
      " 0   Year                        4326 non-null   object\n",
      " 1   Country                     4326 non-null   object\n",
      " 2   GDP Nominal (Current USD)   4326 non-null   object\n",
      " 3   GDP Real  (Inflation adj.)  4326 non-null   object\n",
      " 4   GDP change                  4326 non-null   object\n",
      " 5   GDP per capita              4326 non-null   object\n",
      " 6   Pop. change                 4326 non-null   object\n",
      " 7   Population                  4326 non-null   object\n",
      "dtypes: object(8)\n",
      "memory usage: 270.5+ KB\n"
     ]
    }
   ],
   "source": [
    "# data info\n",
    "data.info()"
   ]
  },
  {
   "cell_type": "markdown",
   "metadata": {},
   "source": [
    "## Column labels"
   ]
  },
  {
   "cell_type": "code",
   "execution_count": 10,
   "metadata": {
    "ExecuteTime": {
     "end_time": "2020-09-12T05:14:56.620637Z",
     "start_time": "2020-09-12T05:14:56.610838Z"
    }
   },
   "outputs": [
    {
     "data": {
      "text/plain": [
       "Index(['Year', 'Country', 'GDP Nominal (Current USD)',\n",
       "       'GDP Real  (Inflation adj.)', 'GDP change', 'GDP per capita',\n",
       "       'Pop. change', 'Population'],\n",
       "      dtype='object')"
      ]
     },
     "execution_count": 10,
     "metadata": {},
     "output_type": "execute_result"
    }
   ],
   "source": [
    "# get the column labels of the data.\n",
    "data.columns"
   ]
  },
  {
   "cell_type": "markdown",
   "metadata": {},
   "source": [
    "# Data Cleaning"
   ]
  },
  {
   "cell_type": "code",
   "execution_count": 11,
   "metadata": {
    "ExecuteTime": {
     "end_time": "2020-09-12T05:14:56.647241Z",
     "start_time": "2020-09-12T05:14:56.624221Z"
    }
   },
   "outputs": [
    {
     "data": {
      "text/html": [
       "<div>\n",
       "<style scoped>\n",
       "    .dataframe tbody tr th:only-of-type {\n",
       "        vertical-align: middle;\n",
       "    }\n",
       "\n",
       "    .dataframe tbody tr th {\n",
       "        vertical-align: top;\n",
       "    }\n",
       "\n",
       "    .dataframe thead th {\n",
       "        text-align: right;\n",
       "    }\n",
       "</style>\n",
       "<table border=\"1\" class=\"dataframe\">\n",
       "  <thead>\n",
       "    <tr style=\"text-align: right;\">\n",
       "      <th></th>\n",
       "      <th>Year</th>\n",
       "      <th>Country</th>\n",
       "      <th>GDP Nominal (Current USD)</th>\n",
       "      <th>GDP Real  (Inflation adj.)</th>\n",
       "      <th>GDP change</th>\n",
       "      <th>GDP per capita</th>\n",
       "      <th>Pop. change</th>\n",
       "      <th>Population</th>\n",
       "    </tr>\n",
       "  </thead>\n",
       "  <tbody>\n",
       "    <tr>\n",
       "      <th>0</th>\n",
       "      <td>2017</td>\n",
       "      <td>United States</td>\n",
       "      <td>$19,485,394,000,000</td>\n",
       "      <td>$17,348,625,758,200</td>\n",
       "      <td>2.27%</td>\n",
       "      <td>$53,366</td>\n",
       "      <td>0.64 %</td>\n",
       "      <td>325,084,756</td>\n",
       "    </tr>\n",
       "    <tr>\n",
       "      <th>1</th>\n",
       "      <td>2016</td>\n",
       "      <td>United States</td>\n",
       "      <td>$18,707,189,000,000</td>\n",
       "      <td>$16,972,347,070,400</td>\n",
       "      <td>1.49%</td>\n",
       "      <td>$52,543</td>\n",
       "      <td>0.67 %</td>\n",
       "      <td>323,015,995</td>\n",
       "    </tr>\n",
       "    <tr>\n",
       "      <th>2</th>\n",
       "      <td>2015</td>\n",
       "      <td>United States</td>\n",
       "      <td>$18,219,297,000,000</td>\n",
       "      <td>$16,710,458,234,000</td>\n",
       "      <td>2.86%</td>\n",
       "      <td>$52,077</td>\n",
       "      <td>0.69 %</td>\n",
       "      <td>320,878,310</td>\n",
       "    </tr>\n",
       "    <tr>\n",
       "      <th>3</th>\n",
       "      <td>2014</td>\n",
       "      <td>United States</td>\n",
       "      <td>$17,521,747,000,000</td>\n",
       "      <td>$16,242,525,613,600</td>\n",
       "      <td>2.57%</td>\n",
       "      <td>$50,969</td>\n",
       "      <td>0.72 %</td>\n",
       "      <td>318,673,411</td>\n",
       "    </tr>\n",
       "    <tr>\n",
       "      <th>4</th>\n",
       "      <td>2013</td>\n",
       "      <td>United States</td>\n",
       "      <td>$16,784,851,000,000</td>\n",
       "      <td>$15,853,794,839,100</td>\n",
       "      <td>1.68%</td>\n",
       "      <td>$50,107</td>\n",
       "      <td>0.75 %</td>\n",
       "      <td>316,400,538</td>\n",
       "    </tr>\n",
       "    <tr>\n",
       "      <th>5</th>\n",
       "      <td>2012</td>\n",
       "      <td>United States</td>\n",
       "      <td>$16,197,007,000,000</td>\n",
       "      <td>$15,567,037,390,000</td>\n",
       "      <td>2.22%</td>\n",
       "      <td>$49,570</td>\n",
       "      <td>0.79 %</td>\n",
       "      <td>314,043,885</td>\n",
       "    </tr>\n",
       "    <tr>\n",
       "      <th>6</th>\n",
       "      <td>2011</td>\n",
       "      <td>United States</td>\n",
       "      <td>$15,542,582,000,000</td>\n",
       "      <td>$15,224,554,065,500</td>\n",
       "      <td>1.60%</td>\n",
       "      <td>$48,862</td>\n",
       "      <td>0.83 %</td>\n",
       "      <td>311,584,047</td>\n",
       "    </tr>\n",
       "    <tr>\n",
       "      <th>7</th>\n",
       "      <td>2010</td>\n",
       "      <td>United States</td>\n",
       "      <td>$14,992,052,000,000</td>\n",
       "      <td>$14,992,052,000,000</td>\n",
       "      <td>2.53%</td>\n",
       "      <td>$48,516</td>\n",
       "      <td>0.88 %</td>\n",
       "      <td>309,011,475</td>\n",
       "    </tr>\n",
       "    <tr>\n",
       "      <th>8</th>\n",
       "      <td>2009</td>\n",
       "      <td>United States</td>\n",
       "      <td>$14,418,739,000,000</td>\n",
       "      <td>$14,594,842,181,900</td>\n",
       "      <td>-2.78%</td>\n",
       "      <td>$47,648</td>\n",
       "      <td>0.93 %</td>\n",
       "      <td>306,307,567</td>\n",
       "    </tr>\n",
       "    <tr>\n",
       "      <th>9</th>\n",
       "      <td>2008</td>\n",
       "      <td>United States</td>\n",
       "      <td>$14,718,582,000,000</td>\n",
       "      <td>$15,011,490,541,400</td>\n",
       "      <td>-0.29%</td>\n",
       "      <td>$49,464</td>\n",
       "      <td>0.96 %</td>\n",
       "      <td>303,486,012</td>\n",
       "    </tr>\n",
       "  </tbody>\n",
       "</table>\n",
       "</div>"
      ],
      "text/plain": [
       "   Year        Country GDP Nominal (Current USD) GDP Real  (Inflation adj.)  \\\n",
       "0  2017  United States       $19,485,394,000,000        $17,348,625,758,200   \n",
       "1  2016  United States       $18,707,189,000,000        $16,972,347,070,400   \n",
       "2  2015  United States       $18,219,297,000,000        $16,710,458,234,000   \n",
       "3  2014  United States       $17,521,747,000,000        $16,242,525,613,600   \n",
       "4  2013  United States       $16,784,851,000,000        $15,853,794,839,100   \n",
       "5  2012  United States       $16,197,007,000,000        $15,567,037,390,000   \n",
       "6  2011  United States       $15,542,582,000,000        $15,224,554,065,500   \n",
       "7  2010  United States       $14,992,052,000,000        $14,992,052,000,000   \n",
       "8  2009  United States       $14,418,739,000,000        $14,594,842,181,900   \n",
       "9  2008  United States       $14,718,582,000,000        $15,011,490,541,400   \n",
       "\n",
       "  GDP change GDP per capita Pop. change   Population  \n",
       "0      2.27%        $53,366      0.64 %  325,084,756  \n",
       "1      1.49%        $52,543      0.67 %  323,015,995  \n",
       "2      2.86%        $52,077      0.69 %  320,878,310  \n",
       "3      2.57%        $50,969      0.72 %  318,673,411  \n",
       "4      1.68%        $50,107      0.75 %  316,400,538  \n",
       "5      2.22%        $49,570      0.79 %  314,043,885  \n",
       "6      1.60%        $48,862      0.83 %  311,584,047  \n",
       "7      2.53%        $48,516      0.88 %  309,011,475  \n",
       "8     -2.78%        $47,648      0.93 %  306,307,567  \n",
       "9     -0.29%        $49,464      0.96 %  303,486,012  "
      ]
     },
     "execution_count": 11,
     "metadata": {},
     "output_type": "execute_result"
    }
   ],
   "source": [
    "data.head(10)"
   ]
  },
  {
   "cell_type": "markdown",
   "metadata": {},
   "source": [
    "## Rename Column Name"
   ]
  },
  {
   "cell_type": "code",
   "execution_count": 12,
   "metadata": {
    "ExecuteTime": {
     "end_time": "2020-09-12T05:14:56.662774Z",
     "start_time": "2020-09-12T05:14:56.651958Z"
    }
   },
   "outputs": [],
   "source": [
    "# rename column name if required\n",
    "data = data.rename(columns={'GDP Nominal (Current USD)':'GDP (in USD)', 'GDP Real  (Inflation adj.)':'GDP Real (in USD)', \n",
    "                            'GDP change':'GDP change (%)', 'GDP per capita':'GDP per capita (in USD)', \n",
    "                            'Pop. change':'Pop. change (%)'})"
   ]
  },
  {
   "cell_type": "markdown",
   "metadata": {},
   "source": [
    "## Remove unwanted symbols (like % and thousand comma from integer)"
   ]
  },
  {
   "cell_type": "code",
   "execution_count": 13,
   "metadata": {
    "ExecuteTime": {
     "end_time": "2020-09-12T05:14:56.713639Z",
     "start_time": "2020-09-12T05:14:56.665556Z"
    }
   },
   "outputs": [],
   "source": [
    "# remove extra characters from columns\n",
    "# remove $ sign\n",
    "data['GDP (in USD)'] = data['GDP (in USD)'].str.replace('$','')\n",
    "data['GDP Real (in USD)'] = data['GDP Real (in USD)'].str.replace('$','')\n",
    "data['GDP per capita (in USD)'] = data['GDP per capita (in USD)'].str.replace('$','')\n",
    "\n",
    "# remove thousand comma\n",
    "data['GDP (in USD)'] = data['GDP (in USD)'].str.replace(',','')\n",
    "data['GDP Real (in USD)'] = data['GDP Real (in USD)'].str.replace(',','')\n",
    "data['GDP per capita (in USD)'] = data['GDP per capita (in USD)'].str.replace(',','')\n",
    "data['Population'] = data['Population'].str.replace(',','')\n",
    "\n",
    "# remove % sign\n",
    "data['GDP change (%)'] = data['GDP change (%)'].str.replace('%','')\n",
    "data['Pop. change (%)'] = data['Pop. change (%)'].str.replace('%','')"
   ]
  },
  {
   "cell_type": "markdown",
   "metadata": {},
   "source": [
    "# Save Data into CSV"
   ]
  },
  {
   "cell_type": "code",
   "execution_count": 14,
   "metadata": {
    "ExecuteTime": {
     "end_time": "2020-09-12T05:14:56.748346Z",
     "start_time": "2020-09-12T05:14:56.716743Z"
    }
   },
   "outputs": [],
   "source": [
    "# save data\n",
    "data.to_csv('Country wise GDP from 1994 to 2017.csv', index=False)"
   ]
  }
 ],
 "metadata": {
  "kernelspec": {
   "display_name": "Python 3",
   "language": "python",
   "name": "python3"
  },
  "language_info": {
   "codemirror_mode": {
    "name": "ipython",
    "version": 3
   },
   "file_extension": ".py",
   "mimetype": "text/x-python",
   "name": "python",
   "nbconvert_exporter": "python",
   "pygments_lexer": "ipython3",
   "version": "3.8.4"
  },
  "latex_envs": {
   "LaTeX_envs_menu_present": true,
   "autoclose": false,
   "autocomplete": true,
   "bibliofile": "biblio.bib",
   "cite_by": "apalike",
   "current_citInitial": 1,
   "eqLabelWithNumbers": true,
   "eqNumInitial": 1,
   "hotkeys": {
    "equation": "Ctrl-E",
    "itemize": "Ctrl-I"
   },
   "labels_anchors": false,
   "latex_user_defs": false,
   "report_style_numbering": false,
   "user_envs_cfg": false
  },
  "toc": {
   "base_numbering": 1,
   "nav_menu": {},
   "number_sections": true,
   "sideBar": true,
   "skip_h1_title": false,
   "title_cell": "Table of Contents",
   "title_sidebar": "Contents",
   "toc_cell": false,
   "toc_position": {},
   "toc_section_display": true,
   "toc_window_display": false
  },
  "varInspector": {
   "cols": {
    "lenName": 16,
    "lenType": 16,
    "lenVar": 40
   },
   "kernels_config": {
    "python": {
     "delete_cmd_postfix": "",
     "delete_cmd_prefix": "del ",
     "library": "var_list.py",
     "varRefreshCmd": "print(var_dic_list())"
    },
    "r": {
     "delete_cmd_postfix": ") ",
     "delete_cmd_prefix": "rm(",
     "library": "var_list.r",
     "varRefreshCmd": "cat(var_dic_list()) "
    }
   },
   "types_to_exclude": [
    "module",
    "function",
    "builtin_function_or_method",
    "instance",
    "_Feature"
   ],
   "window_display": false
  }
 },
 "nbformat": 4,
 "nbformat_minor": 4
}
