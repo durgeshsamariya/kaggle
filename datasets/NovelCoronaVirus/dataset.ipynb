{
 "cells": [
  {
   "cell_type": "code",
   "execution_count": 1,
   "metadata": {
    "ExecuteTime": {
     "end_time": "2021-09-08T14:17:50.295512Z",
     "start_time": "2021-09-08T14:17:49.944740Z"
    }
   },
   "outputs": [],
   "source": [
    "#libraries\n",
    "import pandas as pd\n",
    "import wget"
   ]
  },
  {
   "cell_type": "code",
   "execution_count": 2,
   "metadata": {
    "ExecuteTime": {
     "end_time": "2021-09-08T14:17:50.300089Z",
     "start_time": "2021-09-08T14:17:50.297420Z"
    }
   },
   "outputs": [],
   "source": [
    "import os, ssl\n",
    "if (not os.environ.get('PYTHONHTTPSVERIFY', '') and\n",
    "getattr(ssl, '_create_unverified_context', None)):\n",
    "    ssl._create_default_https_context = ssl._create_unverified_context"
   ]
  },
  {
   "cell_type": "code",
   "execution_count": 3,
   "metadata": {
    "ExecuteTime": {
     "end_time": "2021-09-08T14:17:53.096144Z",
     "start_time": "2021-09-08T14:17:50.302389Z"
    }
   },
   "outputs": [],
   "source": [
    "# remove existing files\n",
    "!rm *.csv\n",
    "\n",
    "# urls of the files\n",
    "\n",
    "urls = ['https://raw.githubusercontent.com/CSSEGISandData/COVID-19/master/csse_covid_19_data/csse_covid_19_time_series/time_series_covid19_confirmed_global.csv',\n",
    "        'https://raw.githubusercontent.com/CSSEGISandData/COVID-19/master/csse_covid_19_data/csse_covid_19_time_series/time_series_covid19_deaths_global.csv',\n",
    "        'https://raw.githubusercontent.com/CSSEGISandData/COVID-19/master/csse_covid_19_data/csse_covid_19_time_series/time_series_covid19_recovered_global.csv',\n",
    "        'https://raw.githubusercontent.com/CSSEGISandData/COVID-19/web-data/data/cases_country.csv'\n",
    "]\n",
    "    \n",
    "# download files\n",
    "for url in urls:\n",
    "    filename = wget.download(url)"
   ]
  },
  {
   "cell_type": "code",
   "execution_count": 4,
   "metadata": {
    "ExecuteTime": {
     "end_time": "2021-09-08T14:17:53.237719Z",
     "start_time": "2021-09-08T14:17:53.098419Z"
    }
   },
   "outputs": [],
   "source": [
    "# generate DataFrames\n",
    "confirmed_global = pd.read_csv('time_series_covid19_confirmed_global.csv')\n",
    "deaths_global = pd.read_csv('time_series_covid19_deaths_global.csv')\n",
    "recovered_global = pd.read_csv('time_series_covid19_recovered_global.csv')\n",
    "covid19_data = pd.read_csv('cases_country.csv')"
   ]
  },
  {
   "cell_type": "code",
   "execution_count": 5,
   "metadata": {
    "ExecuteTime": {
     "end_time": "2021-09-08T14:17:53.263098Z",
     "start_time": "2021-09-08T14:17:53.239738Z"
    }
   },
   "outputs": [
    {
     "data": {
      "text/html": [
       "<div>\n",
       "<style scoped>\n",
       "    .dataframe tbody tr th:only-of-type {\n",
       "        vertical-align: middle;\n",
       "    }\n",
       "\n",
       "    .dataframe tbody tr th {\n",
       "        vertical-align: top;\n",
       "    }\n",
       "\n",
       "    .dataframe thead th {\n",
       "        text-align: right;\n",
       "    }\n",
       "</style>\n",
       "<table border=\"1\" class=\"dataframe\">\n",
       "  <thead>\n",
       "    <tr style=\"text-align: right;\">\n",
       "      <th></th>\n",
       "      <th>Province/State</th>\n",
       "      <th>Country/Region</th>\n",
       "      <th>Lat</th>\n",
       "      <th>Long</th>\n",
       "      <th>1/22/20</th>\n",
       "      <th>1/23/20</th>\n",
       "      <th>1/24/20</th>\n",
       "      <th>1/25/20</th>\n",
       "      <th>1/26/20</th>\n",
       "      <th>1/27/20</th>\n",
       "      <th>...</th>\n",
       "      <th>8/29/21</th>\n",
       "      <th>8/30/21</th>\n",
       "      <th>8/31/21</th>\n",
       "      <th>9/1/21</th>\n",
       "      <th>9/2/21</th>\n",
       "      <th>9/3/21</th>\n",
       "      <th>9/4/21</th>\n",
       "      <th>9/5/21</th>\n",
       "      <th>9/6/21</th>\n",
       "      <th>9/7/21</th>\n",
       "    </tr>\n",
       "  </thead>\n",
       "  <tbody>\n",
       "    <tr>\n",
       "      <th>0</th>\n",
       "      <td>NaN</td>\n",
       "      <td>Afghanistan</td>\n",
       "      <td>33.93911</td>\n",
       "      <td>67.709953</td>\n",
       "      <td>0</td>\n",
       "      <td>0</td>\n",
       "      <td>0</td>\n",
       "      <td>0</td>\n",
       "      <td>0</td>\n",
       "      <td>0</td>\n",
       "      <td>...</td>\n",
       "      <td>152960</td>\n",
       "      <td>153148</td>\n",
       "      <td>153220</td>\n",
       "      <td>153260</td>\n",
       "      <td>153306</td>\n",
       "      <td>153375</td>\n",
       "      <td>153375</td>\n",
       "      <td>153375</td>\n",
       "      <td>153534</td>\n",
       "      <td>153626</td>\n",
       "    </tr>\n",
       "    <tr>\n",
       "      <th>1</th>\n",
       "      <td>NaN</td>\n",
       "      <td>Albania</td>\n",
       "      <td>41.15330</td>\n",
       "      <td>20.168300</td>\n",
       "      <td>0</td>\n",
       "      <td>0</td>\n",
       "      <td>0</td>\n",
       "      <td>0</td>\n",
       "      <td>0</td>\n",
       "      <td>0</td>\n",
       "      <td>...</td>\n",
       "      <td>144847</td>\n",
       "      <td>145333</td>\n",
       "      <td>146387</td>\n",
       "      <td>147369</td>\n",
       "      <td>148222</td>\n",
       "      <td>149117</td>\n",
       "      <td>150101</td>\n",
       "      <td>150997</td>\n",
       "      <td>151499</td>\n",
       "      <td>152239</td>\n",
       "    </tr>\n",
       "    <tr>\n",
       "      <th>2</th>\n",
       "      <td>NaN</td>\n",
       "      <td>Algeria</td>\n",
       "      <td>28.03390</td>\n",
       "      <td>1.659600</td>\n",
       "      <td>0</td>\n",
       "      <td>0</td>\n",
       "      <td>0</td>\n",
       "      <td>0</td>\n",
       "      <td>0</td>\n",
       "      <td>0</td>\n",
       "      <td>...</td>\n",
       "      <td>195162</td>\n",
       "      <td>195574</td>\n",
       "      <td>196080</td>\n",
       "      <td>196527</td>\n",
       "      <td>196915</td>\n",
       "      <td>197308</td>\n",
       "      <td>197659</td>\n",
       "      <td>198004</td>\n",
       "      <td>198313</td>\n",
       "      <td>198645</td>\n",
       "    </tr>\n",
       "    <tr>\n",
       "      <th>3</th>\n",
       "      <td>NaN</td>\n",
       "      <td>Andorra</td>\n",
       "      <td>42.50630</td>\n",
       "      <td>1.521800</td>\n",
       "      <td>0</td>\n",
       "      <td>0</td>\n",
       "      <td>0</td>\n",
       "      <td>0</td>\n",
       "      <td>0</td>\n",
       "      <td>0</td>\n",
       "      <td>...</td>\n",
       "      <td>15025</td>\n",
       "      <td>15032</td>\n",
       "      <td>15033</td>\n",
       "      <td>15046</td>\n",
       "      <td>15052</td>\n",
       "      <td>15055</td>\n",
       "      <td>15055</td>\n",
       "      <td>15055</td>\n",
       "      <td>15069</td>\n",
       "      <td>15070</td>\n",
       "    </tr>\n",
       "    <tr>\n",
       "      <th>4</th>\n",
       "      <td>NaN</td>\n",
       "      <td>Angola</td>\n",
       "      <td>-11.20270</td>\n",
       "      <td>17.873900</td>\n",
       "      <td>0</td>\n",
       "      <td>0</td>\n",
       "      <td>0</td>\n",
       "      <td>0</td>\n",
       "      <td>0</td>\n",
       "      <td>0</td>\n",
       "      <td>...</td>\n",
       "      <td>47168</td>\n",
       "      <td>47331</td>\n",
       "      <td>47544</td>\n",
       "      <td>47781</td>\n",
       "      <td>48004</td>\n",
       "      <td>48261</td>\n",
       "      <td>48475</td>\n",
       "      <td>48656</td>\n",
       "      <td>48790</td>\n",
       "      <td>49114</td>\n",
       "    </tr>\n",
       "  </tbody>\n",
       "</table>\n",
       "<p>5 rows × 599 columns</p>\n",
       "</div>"
      ],
      "text/plain": [
       "  Province/State Country/Region       Lat       Long  1/22/20  1/23/20  \\\n",
       "0            NaN    Afghanistan  33.93911  67.709953        0        0   \n",
       "1            NaN        Albania  41.15330  20.168300        0        0   \n",
       "2            NaN        Algeria  28.03390   1.659600        0        0   \n",
       "3            NaN        Andorra  42.50630   1.521800        0        0   \n",
       "4            NaN         Angola -11.20270  17.873900        0        0   \n",
       "\n",
       "   1/24/20  1/25/20  1/26/20  1/27/20  ...  8/29/21  8/30/21  8/31/21  9/1/21  \\\n",
       "0        0        0        0        0  ...   152960   153148   153220  153260   \n",
       "1        0        0        0        0  ...   144847   145333   146387  147369   \n",
       "2        0        0        0        0  ...   195162   195574   196080  196527   \n",
       "3        0        0        0        0  ...    15025    15032    15033   15046   \n",
       "4        0        0        0        0  ...    47168    47331    47544   47781   \n",
       "\n",
       "   9/2/21  9/3/21  9/4/21  9/5/21  9/6/21  9/7/21  \n",
       "0  153306  153375  153375  153375  153534  153626  \n",
       "1  148222  149117  150101  150997  151499  152239  \n",
       "2  196915  197308  197659  198004  198313  198645  \n",
       "3   15052   15055   15055   15055   15069   15070  \n",
       "4   48004   48261   48475   48656   48790   49114  \n",
       "\n",
       "[5 rows x 599 columns]"
      ]
     },
     "execution_count": 5,
     "metadata": {},
     "output_type": "execute_result"
    }
   ],
   "source": [
    "confirmed_global.head()"
   ]
  },
  {
   "cell_type": "code",
   "execution_count": 6,
   "metadata": {
    "ExecuteTime": {
     "end_time": "2021-09-08T14:17:53.330566Z",
     "start_time": "2021-09-08T14:17:53.264947Z"
    }
   },
   "outputs": [],
   "source": [
    "# merging three dataframes based on first for columns as all three have same columns.\n",
    "dates = confirmed_global.columns[4:]\n",
    "confirmed_global_long = confirmed_global.melt(id_vars=['Province/State', 'Country/Region', 'Lat', 'Long'], \n",
    "                                              value_vars=dates, var_name='Date', value_name='Confirmed')\n",
    "\n",
    "deaths_global_long = deaths_global.melt(id_vars=['Province/State', 'Country/Region', 'Lat', 'Long'], \n",
    "                                        value_vars=dates, var_name='Date', value_name='Deaths')\n",
    "\n",
    "recovered_global_long = recovered_global.melt(id_vars=['Province/State', 'Country/Region', 'Lat', 'Long'],\n",
    "                                              value_vars=dates, var_name='Date', value_name='Recovered')"
   ]
  },
  {
   "cell_type": "code",
   "execution_count": 7,
   "metadata": {
    "ExecuteTime": {
     "end_time": "2021-09-08T14:17:53.612151Z",
     "start_time": "2021-09-08T14:17:53.332200Z"
    }
   },
   "outputs": [],
   "source": [
    "data = pd.merge(left=confirmed_global_long, right=deaths_global_long, \n",
    "                how ='left', on=['Province/State', 'Country/Region', 'Date', 'Lat', 'Long'])\n",
    "\n",
    "data = pd.merge(left=data, right=recovered_global_long, how='left',\n",
    "                on=['Province/State', 'Country/Region', 'Date', 'Lat', 'Long'])\n",
    "\n",
    "data['Recovered'] = data['Recovered'].fillna(0)\n",
    "data['Recovered'] = data['Recovered'].astype('int')\n"
   ]
  },
  {
   "cell_type": "code",
   "execution_count": 8,
   "metadata": {
    "ExecuteTime": {
     "end_time": "2021-09-08T14:17:53.665028Z",
     "start_time": "2021-09-08T14:17:53.615537Z"
    }
   },
   "outputs": [],
   "source": [
    "# renaming countries, regions, provinces\n",
    "# i manually find this\n",
    "data['Country/Region'] = data['Country/Region'].replace('Korea, South', 'South Korea')\n",
    "data.loc[data['Country/Region'] == \"Taiwan*\", \"Country/Region\"] = \"Taiwan\"\n",
    "\n",
    "#Change column name\n",
    "data = data.rename(columns={\"Country/Region\": \"Country\"})\n",
    "data = data.rename(columns={\"Province/State\": \"State\"})\n",
    "\n",
    "data['State'] = data['State'].fillna('')\n",
    "\n",
    "#create active case column\n",
    "data[\"Active\"] = data[\"Confirmed\"]-data[\"Recovered\"]-data[\"Deaths\"]"
   ]
  },
  {
   "cell_type": "code",
   "execution_count": 9,
   "metadata": {
    "ExecuteTime": {
     "end_time": "2021-09-08T14:17:54.328735Z",
     "start_time": "2021-09-08T14:17:53.667527Z"
    }
   },
   "outputs": [],
   "source": [
    "data.to_csv('novel_corona_virus_dataset.csv', index=False)"
   ]
  }
 ],
 "metadata": {
  "kernelspec": {
   "display_name": "Python 3",
   "language": "python",
   "name": "python3"
  },
  "language_info": {
   "codemirror_mode": {
    "name": "ipython",
    "version": 3
   },
   "file_extension": ".py",
   "mimetype": "text/x-python",
   "name": "python",
   "nbconvert_exporter": "python",
   "pygments_lexer": "ipython3",
   "version": "3.8.5"
  },
  "latex_envs": {
   "LaTeX_envs_menu_present": true,
   "autoclose": false,
   "autocomplete": true,
   "bibliofile": "biblio.bib",
   "cite_by": "apalike",
   "current_citInitial": 1,
   "eqLabelWithNumbers": true,
   "eqNumInitial": 1,
   "hotkeys": {
    "equation": "Ctrl-E",
    "itemize": "Ctrl-I"
   },
   "labels_anchors": false,
   "latex_user_defs": false,
   "report_style_numbering": false,
   "user_envs_cfg": false
  },
  "toc": {
   "base_numbering": 1,
   "nav_menu": {},
   "number_sections": true,
   "sideBar": true,
   "skip_h1_title": false,
   "title_cell": "Table of Contents",
   "title_sidebar": "Contents",
   "toc_cell": false,
   "toc_position": {},
   "toc_section_display": true,
   "toc_window_display": false
  },
  "varInspector": {
   "cols": {
    "lenName": 16,
    "lenType": 16,
    "lenVar": 40
   },
   "kernels_config": {
    "python": {
     "delete_cmd_postfix": "",
     "delete_cmd_prefix": "del ",
     "library": "var_list.py",
     "varRefreshCmd": "print(var_dic_list())"
    },
    "r": {
     "delete_cmd_postfix": ") ",
     "delete_cmd_prefix": "rm(",
     "library": "var_list.r",
     "varRefreshCmd": "cat(var_dic_list()) "
    }
   },
   "types_to_exclude": [
    "module",
    "function",
    "builtin_function_or_method",
    "instance",
    "_Feature"
   ],
   "window_display": false
  }
 },
 "nbformat": 4,
 "nbformat_minor": 4
}
