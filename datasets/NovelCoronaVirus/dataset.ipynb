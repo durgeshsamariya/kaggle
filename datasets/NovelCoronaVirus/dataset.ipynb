{
 "cells": [
  {
   "cell_type": "code",
   "execution_count": 1,
   "metadata": {
    "ExecuteTime": {
     "end_time": "2021-11-02T05:08:11.834308Z",
     "start_time": "2021-11-02T05:08:10.248867Z"
    }
   },
   "outputs": [],
   "source": [
    "#libraries\n",
    "import pandas as pd\n",
    "import wget"
   ]
  },
  {
   "cell_type": "code",
   "execution_count": 2,
   "metadata": {
    "ExecuteTime": {
     "end_time": "2021-11-02T05:08:11.839082Z",
     "start_time": "2021-11-02T05:08:11.836436Z"
    }
   },
   "outputs": [],
   "source": [
    "import os, ssl\n",
    "if (not os.environ.get('PYTHONHTTPSVERIFY', '') and\n",
    "getattr(ssl, '_create_unverified_context', None)):\n",
    "    ssl._create_default_https_context = ssl._create_unverified_context"
   ]
  },
  {
   "cell_type": "code",
   "execution_count": 3,
   "metadata": {
    "ExecuteTime": {
     "end_time": "2021-11-02T05:08:16.250090Z",
     "start_time": "2021-11-02T05:08:11.841371Z"
    }
   },
   "outputs": [],
   "source": [
    "# remove existing files\n",
    "!rm *.csv\n",
    "\n",
    "# urls of the files\n",
    "\n",
    "urls = ['https://raw.githubusercontent.com/CSSEGISandData/COVID-19/master/csse_covid_19_data/csse_covid_19_time_series/time_series_covid19_confirmed_global.csv',\n",
    "        'https://raw.githubusercontent.com/CSSEGISandData/COVID-19/master/csse_covid_19_data/csse_covid_19_time_series/time_series_covid19_deaths_global.csv',\n",
    "        'https://raw.githubusercontent.com/CSSEGISandData/COVID-19/master/csse_covid_19_data/csse_covid_19_time_series/time_series_covid19_recovered_global.csv',\n",
    "        'https://raw.githubusercontent.com/CSSEGISandData/COVID-19/web-data/data/cases_country.csv'\n",
    "]\n",
    "    \n",
    "# download files\n",
    "for url in urls:\n",
    "    filename = wget.download(url)"
   ]
  },
  {
   "cell_type": "code",
   "execution_count": 4,
   "metadata": {
    "ExecuteTime": {
     "end_time": "2021-11-02T05:08:16.403388Z",
     "start_time": "2021-11-02T05:08:16.253460Z"
    }
   },
   "outputs": [],
   "source": [
    "# generate DataFrames\n",
    "confirmed_global = pd.read_csv('time_series_covid19_confirmed_global.csv')\n",
    "deaths_global = pd.read_csv('time_series_covid19_deaths_global.csv')\n",
    "recovered_global = pd.read_csv('time_series_covid19_recovered_global.csv')\n",
    "covid19_data = pd.read_csv('cases_country.csv')"
   ]
  },
  {
   "cell_type": "code",
   "execution_count": 5,
   "metadata": {
    "ExecuteTime": {
     "end_time": "2021-11-02T05:08:16.427172Z",
     "start_time": "2021-11-02T05:08:16.404984Z"
    }
   },
   "outputs": [
    {
     "data": {
      "text/html": [
       "<div>\n",
       "<style scoped>\n",
       "    .dataframe tbody tr th:only-of-type {\n",
       "        vertical-align: middle;\n",
       "    }\n",
       "\n",
       "    .dataframe tbody tr th {\n",
       "        vertical-align: top;\n",
       "    }\n",
       "\n",
       "    .dataframe thead th {\n",
       "        text-align: right;\n",
       "    }\n",
       "</style>\n",
       "<table border=\"1\" class=\"dataframe\">\n",
       "  <thead>\n",
       "    <tr style=\"text-align: right;\">\n",
       "      <th></th>\n",
       "      <th>Province/State</th>\n",
       "      <th>Country/Region</th>\n",
       "      <th>Lat</th>\n",
       "      <th>Long</th>\n",
       "      <th>1/22/20</th>\n",
       "      <th>1/23/20</th>\n",
       "      <th>1/24/20</th>\n",
       "      <th>1/25/20</th>\n",
       "      <th>1/26/20</th>\n",
       "      <th>1/27/20</th>\n",
       "      <th>...</th>\n",
       "      <th>11/22/21</th>\n",
       "      <th>11/23/21</th>\n",
       "      <th>11/24/21</th>\n",
       "      <th>11/25/21</th>\n",
       "      <th>11/26/21</th>\n",
       "      <th>11/27/21</th>\n",
       "      <th>11/28/21</th>\n",
       "      <th>11/29/21</th>\n",
       "      <th>11/30/21</th>\n",
       "      <th>12/1/21</th>\n",
       "    </tr>\n",
       "  </thead>\n",
       "  <tbody>\n",
       "    <tr>\n",
       "      <th>0</th>\n",
       "      <td>NaN</td>\n",
       "      <td>Afghanistan</td>\n",
       "      <td>33.93911</td>\n",
       "      <td>67.709953</td>\n",
       "      <td>0</td>\n",
       "      <td>0</td>\n",
       "      <td>0</td>\n",
       "      <td>0</td>\n",
       "      <td>0</td>\n",
       "      <td>0</td>\n",
       "      <td>...</td>\n",
       "      <td>156911</td>\n",
       "      <td>157015</td>\n",
       "      <td>157032</td>\n",
       "      <td>157144</td>\n",
       "      <td>157171</td>\n",
       "      <td>157190</td>\n",
       "      <td>157218</td>\n",
       "      <td>157260</td>\n",
       "      <td>157289</td>\n",
       "      <td>157359</td>\n",
       "    </tr>\n",
       "    <tr>\n",
       "      <th>1</th>\n",
       "      <td>NaN</td>\n",
       "      <td>Albania</td>\n",
       "      <td>41.15330</td>\n",
       "      <td>20.168300</td>\n",
       "      <td>0</td>\n",
       "      <td>0</td>\n",
       "      <td>0</td>\n",
       "      <td>0</td>\n",
       "      <td>0</td>\n",
       "      <td>0</td>\n",
       "      <td>...</td>\n",
       "      <td>196611</td>\n",
       "      <td>197167</td>\n",
       "      <td>197776</td>\n",
       "      <td>198292</td>\n",
       "      <td>198732</td>\n",
       "      <td>199137</td>\n",
       "      <td>199555</td>\n",
       "      <td>199750</td>\n",
       "      <td>199945</td>\n",
       "      <td>200173</td>\n",
       "    </tr>\n",
       "    <tr>\n",
       "      <th>2</th>\n",
       "      <td>NaN</td>\n",
       "      <td>Algeria</td>\n",
       "      <td>28.03390</td>\n",
       "      <td>1.659600</td>\n",
       "      <td>0</td>\n",
       "      <td>0</td>\n",
       "      <td>0</td>\n",
       "      <td>0</td>\n",
       "      <td>0</td>\n",
       "      <td>0</td>\n",
       "      <td>...</td>\n",
       "      <td>209111</td>\n",
       "      <td>209283</td>\n",
       "      <td>209463</td>\n",
       "      <td>209624</td>\n",
       "      <td>209817</td>\n",
       "      <td>209980</td>\n",
       "      <td>210152</td>\n",
       "      <td>210344</td>\n",
       "      <td>210531</td>\n",
       "      <td>210723</td>\n",
       "    </tr>\n",
       "    <tr>\n",
       "      <th>3</th>\n",
       "      <td>NaN</td>\n",
       "      <td>Andorra</td>\n",
       "      <td>42.50630</td>\n",
       "      <td>1.521800</td>\n",
       "      <td>0</td>\n",
       "      <td>0</td>\n",
       "      <td>0</td>\n",
       "      <td>0</td>\n",
       "      <td>0</td>\n",
       "      <td>0</td>\n",
       "      <td>...</td>\n",
       "      <td>16299</td>\n",
       "      <td>16342</td>\n",
       "      <td>16426</td>\n",
       "      <td>16566</td>\n",
       "      <td>16712</td>\n",
       "      <td>16712</td>\n",
       "      <td>16712</td>\n",
       "      <td>16712</td>\n",
       "      <td>17115</td>\n",
       "      <td>17426</td>\n",
       "    </tr>\n",
       "    <tr>\n",
       "      <th>4</th>\n",
       "      <td>NaN</td>\n",
       "      <td>Angola</td>\n",
       "      <td>-11.20270</td>\n",
       "      <td>17.873900</td>\n",
       "      <td>0</td>\n",
       "      <td>0</td>\n",
       "      <td>0</td>\n",
       "      <td>0</td>\n",
       "      <td>0</td>\n",
       "      <td>0</td>\n",
       "      <td>...</td>\n",
       "      <td>65033</td>\n",
       "      <td>65061</td>\n",
       "      <td>65080</td>\n",
       "      <td>65105</td>\n",
       "      <td>65130</td>\n",
       "      <td>65139</td>\n",
       "      <td>65144</td>\n",
       "      <td>65155</td>\n",
       "      <td>65168</td>\n",
       "      <td>65183</td>\n",
       "    </tr>\n",
       "  </tbody>\n",
       "</table>\n",
       "<p>5 rows × 684 columns</p>\n",
       "</div>"
      ],
      "text/plain": [
       "  Province/State Country/Region       Lat       Long  1/22/20  1/23/20  \\\n",
       "0            NaN    Afghanistan  33.93911  67.709953        0        0   \n",
       "1            NaN        Albania  41.15330  20.168300        0        0   \n",
       "2            NaN        Algeria  28.03390   1.659600        0        0   \n",
       "3            NaN        Andorra  42.50630   1.521800        0        0   \n",
       "4            NaN         Angola -11.20270  17.873900        0        0   \n",
       "\n",
       "   1/24/20  1/25/20  1/26/20  1/27/20  ...  11/22/21  11/23/21  11/24/21  \\\n",
       "0        0        0        0        0  ...    156911    157015    157032   \n",
       "1        0        0        0        0  ...    196611    197167    197776   \n",
       "2        0        0        0        0  ...    209111    209283    209463   \n",
       "3        0        0        0        0  ...     16299     16342     16426   \n",
       "4        0        0        0        0  ...     65033     65061     65080   \n",
       "\n",
       "   11/25/21  11/26/21  11/27/21  11/28/21  11/29/21  11/30/21  12/1/21  \n",
       "0    157144    157171    157190    157218    157260    157289   157359  \n",
       "1    198292    198732    199137    199555    199750    199945   200173  \n",
       "2    209624    209817    209980    210152    210344    210531   210723  \n",
       "3     16566     16712     16712     16712     16712     17115    17426  \n",
       "4     65105     65130     65139     65144     65155     65168    65183  \n",
       "\n",
       "[5 rows x 684 columns]"
      ]
     },
     "execution_count": 5,
     "metadata": {},
     "output_type": "execute_result"
    }
   ],
   "source": [
    "confirmed_global.head()"
   ]
  },
  {
   "cell_type": "code",
   "execution_count": 6,
   "metadata": {
    "ExecuteTime": {
     "end_time": "2021-11-02T05:08:16.494963Z",
     "start_time": "2021-11-02T05:08:16.428945Z"
    }
   },
   "outputs": [],
   "source": [
    "# merging three dataframes based on first for columns as all three have same columns.\n",
    "dates = confirmed_global.columns[4:]\n",
    "confirmed_global_long = confirmed_global.melt(id_vars=['Province/State', 'Country/Region', 'Lat', 'Long'], \n",
    "                                              value_vars=dates, var_name='Date', value_name='Confirmed')\n",
    "\n",
    "deaths_global_long = deaths_global.melt(id_vars=['Province/State', 'Country/Region', 'Lat', 'Long'], \n",
    "                                        value_vars=dates, var_name='Date', value_name='Deaths')\n",
    "\n",
    "recovered_global_long = recovered_global.melt(id_vars=['Province/State', 'Country/Region', 'Lat', 'Long'],\n",
    "                                              value_vars=dates, var_name='Date', value_name='Recovered')"
   ]
  },
  {
   "cell_type": "code",
   "execution_count": 7,
   "metadata": {
    "ExecuteTime": {
     "end_time": "2021-11-02T05:08:16.830291Z",
     "start_time": "2021-11-02T05:08:16.496832Z"
    }
   },
   "outputs": [],
   "source": [
    "data = pd.merge(left=confirmed_global_long, right=deaths_global_long, \n",
    "                how ='left', on=['Province/State', 'Country/Region', 'Date', 'Lat', 'Long'])\n",
    "\n",
    "data = pd.merge(left=data, right=recovered_global_long, how='left',\n",
    "                on=['Province/State', 'Country/Region', 'Date', 'Lat', 'Long'])\n",
    "\n",
    "data['Recovered'] = data['Recovered'].fillna(0)\n",
    "data['Recovered'] = data['Recovered'].astype('int')\n"
   ]
  },
  {
   "cell_type": "code",
   "execution_count": 8,
   "metadata": {
    "ExecuteTime": {
     "end_time": "2021-11-02T05:08:16.885066Z",
     "start_time": "2021-11-02T05:08:16.833933Z"
    }
   },
   "outputs": [],
   "source": [
    "# renaming countries, regions, provinces\n",
    "# i manually find this\n",
    "data['Country/Region'] = data['Country/Region'].replace('Korea, South', 'South Korea')\n",
    "data.loc[data['Country/Region'] == \"Taiwan*\", \"Country/Region\"] = \"Taiwan\"\n",
    "\n",
    "#Change column name\n",
    "data = data.rename(columns={\"Country/Region\": \"Country\"})\n",
    "data = data.rename(columns={\"Province/State\": \"State\"})\n",
    "\n",
    "data['State'] = data['State'].fillna('')\n",
    "\n",
    "#create active case column\n",
    "data[\"Active\"] = data[\"Confirmed\"]-data[\"Recovered\"]-data[\"Deaths\"]"
   ]
  },
  {
   "cell_type": "code",
   "execution_count": 9,
   "metadata": {
    "ExecuteTime": {
     "end_time": "2021-11-02T05:08:17.679596Z",
     "start_time": "2021-11-02T05:08:16.888018Z"
    }
   },
   "outputs": [],
   "source": [
    "data.to_csv('novel_corona_virus_dataset.csv', index=False)"
   ]
  }
 ],
 "metadata": {
  "kernelspec": {
   "display_name": "Python 3",
   "language": "python",
   "name": "python3"
  },
  "language_info": {
   "codemirror_mode": {
    "name": "ipython",
    "version": 3
   },
   "file_extension": ".py",
   "mimetype": "text/x-python",
   "name": "python",
   "nbconvert_exporter": "python",
   "pygments_lexer": "ipython3",
   "version": "3.8.5"
  },
  "latex_envs": {
   "LaTeX_envs_menu_present": true,
   "autoclose": false,
   "autocomplete": true,
   "bibliofile": "biblio.bib",
   "cite_by": "apalike",
   "current_citInitial": 1,
   "eqLabelWithNumbers": true,
   "eqNumInitial": 1,
   "hotkeys": {
    "equation": "Ctrl-E",
    "itemize": "Ctrl-I"
   },
   "labels_anchors": false,
   "latex_user_defs": false,
   "report_style_numbering": false,
   "user_envs_cfg": false
  },
  "toc": {
   "base_numbering": 1,
   "nav_menu": {},
   "number_sections": true,
   "sideBar": true,
   "skip_h1_title": false,
   "title_cell": "Table of Contents",
   "title_sidebar": "Contents",
   "toc_cell": false,
   "toc_position": {},
   "toc_section_display": true,
   "toc_window_display": false
  },
  "varInspector": {
   "cols": {
    "lenName": 16,
    "lenType": 16,
    "lenVar": 40
   },
   "kernels_config": {
    "python": {
     "delete_cmd_postfix": "",
     "delete_cmd_prefix": "del ",
     "library": "var_list.py",
     "varRefreshCmd": "print(var_dic_list())"
    },
    "r": {
     "delete_cmd_postfix": ") ",
     "delete_cmd_prefix": "rm(",
     "library": "var_list.r",
     "varRefreshCmd": "cat(var_dic_list()) "
    }
   },
   "types_to_exclude": [
    "module",
    "function",
    "builtin_function_or_method",
    "instance",
    "_Feature"
   ],
   "window_display": false
  }
 },
 "nbformat": 4,
 "nbformat_minor": 4
}
