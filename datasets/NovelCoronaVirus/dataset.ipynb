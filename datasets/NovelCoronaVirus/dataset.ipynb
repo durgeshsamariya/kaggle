{
 "cells": [
  {
   "cell_type": "code",
   "execution_count": 1,
   "metadata": {
    "ExecuteTime": {
     "end_time": "2021-06-10T07:45:35.773850Z",
     "start_time": "2021-06-10T07:45:35.406826Z"
    }
   },
   "outputs": [],
   "source": [
    "#libraries\n",
    "import pandas as pd\n",
    "import wget"
   ]
  },
  {
   "cell_type": "code",
   "execution_count": 2,
   "metadata": {
    "ExecuteTime": {
     "end_time": "2021-06-10T07:45:35.778739Z",
     "start_time": "2021-06-10T07:45:35.775628Z"
    }
   },
   "outputs": [],
   "source": [
    "import os, ssl\n",
    "if (not os.environ.get('PYTHONHTTPSVERIFY', '') and\n",
    "getattr(ssl, '_create_unverified_context', None)):\n",
    "    ssl._create_default_https_context = ssl._create_unverified_context"
   ]
  },
  {
   "cell_type": "code",
   "execution_count": 3,
   "metadata": {
    "ExecuteTime": {
     "end_time": "2021-06-10T07:45:39.049165Z",
     "start_time": "2021-06-10T07:45:35.782985Z"
    }
   },
   "outputs": [],
   "source": [
    "# remove existing files\n",
    "!rm *.csv\n",
    "\n",
    "# urls of the files\n",
    "\n",
    "urls = ['https://raw.githubusercontent.com/CSSEGISandData/COVID-19/master/csse_covid_19_data/csse_covid_19_time_series/time_series_covid19_confirmed_global.csv',\n",
    "        'https://raw.githubusercontent.com/CSSEGISandData/COVID-19/master/csse_covid_19_data/csse_covid_19_time_series/time_series_covid19_deaths_global.csv',\n",
    "        'https://raw.githubusercontent.com/CSSEGISandData/COVID-19/master/csse_covid_19_data/csse_covid_19_time_series/time_series_covid19_recovered_global.csv',\n",
    "        'https://raw.githubusercontent.com/CSSEGISandData/COVID-19/web-data/data/cases_country.csv'\n",
    "]\n",
    "    \n",
    "# download files\n",
    "for url in urls:\n",
    "    filename = wget.download(url)"
   ]
  },
  {
   "cell_type": "code",
   "execution_count": 4,
   "metadata": {
    "ExecuteTime": {
     "end_time": "2021-06-10T07:45:39.164002Z",
     "start_time": "2021-06-10T07:45:39.051956Z"
    }
   },
   "outputs": [],
   "source": [
    "# generate DataFrames\n",
    "confirmed_global = pd.read_csv('time_series_covid19_confirmed_global.csv')\n",
    "deaths_global = pd.read_csv('time_series_covid19_deaths_global.csv')\n",
    "recovered_global = pd.read_csv('time_series_covid19_recovered_global.csv')\n",
    "covid19_data = pd.read_csv('cases_country.csv')"
   ]
  },
  {
   "cell_type": "code",
   "execution_count": 5,
   "metadata": {
    "ExecuteTime": {
     "end_time": "2021-06-10T07:45:39.184267Z",
     "start_time": "2021-06-10T07:45:39.165535Z"
    }
   },
   "outputs": [
    {
     "data": {
      "text/html": [
       "<div>\n",
       "<style scoped>\n",
       "    .dataframe tbody tr th:only-of-type {\n",
       "        vertical-align: middle;\n",
       "    }\n",
       "\n",
       "    .dataframe tbody tr th {\n",
       "        vertical-align: top;\n",
       "    }\n",
       "\n",
       "    .dataframe thead th {\n",
       "        text-align: right;\n",
       "    }\n",
       "</style>\n",
       "<table border=\"1\" class=\"dataframe\">\n",
       "  <thead>\n",
       "    <tr style=\"text-align: right;\">\n",
       "      <th></th>\n",
       "      <th>Province/State</th>\n",
       "      <th>Country/Region</th>\n",
       "      <th>Lat</th>\n",
       "      <th>Long</th>\n",
       "      <th>1/22/20</th>\n",
       "      <th>1/23/20</th>\n",
       "      <th>1/24/20</th>\n",
       "      <th>1/25/20</th>\n",
       "      <th>1/26/20</th>\n",
       "      <th>1/27/20</th>\n",
       "      <th>...</th>\n",
       "      <th>5/31/21</th>\n",
       "      <th>6/1/21</th>\n",
       "      <th>6/2/21</th>\n",
       "      <th>6/3/21</th>\n",
       "      <th>6/4/21</th>\n",
       "      <th>6/5/21</th>\n",
       "      <th>6/6/21</th>\n",
       "      <th>6/7/21</th>\n",
       "      <th>6/8/21</th>\n",
       "      <th>6/9/21</th>\n",
       "    </tr>\n",
       "  </thead>\n",
       "  <tbody>\n",
       "    <tr>\n",
       "      <th>0</th>\n",
       "      <td>NaN</td>\n",
       "      <td>Afghanistan</td>\n",
       "      <td>33.93911</td>\n",
       "      <td>67.709953</td>\n",
       "      <td>0</td>\n",
       "      <td>0</td>\n",
       "      <td>0</td>\n",
       "      <td>0</td>\n",
       "      <td>0</td>\n",
       "      <td>0</td>\n",
       "      <td>...</td>\n",
       "      <td>71838</td>\n",
       "      <td>72977</td>\n",
       "      <td>74026</td>\n",
       "      <td>75119</td>\n",
       "      <td>76628</td>\n",
       "      <td>77963</td>\n",
       "      <td>79224</td>\n",
       "      <td>80841</td>\n",
       "      <td>82326</td>\n",
       "      <td>84050</td>\n",
       "    </tr>\n",
       "    <tr>\n",
       "      <th>1</th>\n",
       "      <td>NaN</td>\n",
       "      <td>Albania</td>\n",
       "      <td>41.15330</td>\n",
       "      <td>20.168300</td>\n",
       "      <td>0</td>\n",
       "      <td>0</td>\n",
       "      <td>0</td>\n",
       "      <td>0</td>\n",
       "      <td>0</td>\n",
       "      <td>0</td>\n",
       "      <td>...</td>\n",
       "      <td>132315</td>\n",
       "      <td>132337</td>\n",
       "      <td>132351</td>\n",
       "      <td>132360</td>\n",
       "      <td>132372</td>\n",
       "      <td>132374</td>\n",
       "      <td>132379</td>\n",
       "      <td>132384</td>\n",
       "      <td>132397</td>\n",
       "      <td>132415</td>\n",
       "    </tr>\n",
       "    <tr>\n",
       "      <th>2</th>\n",
       "      <td>NaN</td>\n",
       "      <td>Algeria</td>\n",
       "      <td>28.03390</td>\n",
       "      <td>1.659600</td>\n",
       "      <td>0</td>\n",
       "      <td>0</td>\n",
       "      <td>0</td>\n",
       "      <td>0</td>\n",
       "      <td>0</td>\n",
       "      <td>0</td>\n",
       "      <td>...</td>\n",
       "      <td>128913</td>\n",
       "      <td>129218</td>\n",
       "      <td>129640</td>\n",
       "      <td>129976</td>\n",
       "      <td>130361</td>\n",
       "      <td>130681</td>\n",
       "      <td>130958</td>\n",
       "      <td>131283</td>\n",
       "      <td>131647</td>\n",
       "      <td>132034</td>\n",
       "    </tr>\n",
       "    <tr>\n",
       "      <th>3</th>\n",
       "      <td>NaN</td>\n",
       "      <td>Andorra</td>\n",
       "      <td>42.50630</td>\n",
       "      <td>1.521800</td>\n",
       "      <td>0</td>\n",
       "      <td>0</td>\n",
       "      <td>0</td>\n",
       "      <td>0</td>\n",
       "      <td>0</td>\n",
       "      <td>0</td>\n",
       "      <td>...</td>\n",
       "      <td>13727</td>\n",
       "      <td>13729</td>\n",
       "      <td>13744</td>\n",
       "      <td>13752</td>\n",
       "      <td>13758</td>\n",
       "      <td>13758</td>\n",
       "      <td>13758</td>\n",
       "      <td>13777</td>\n",
       "      <td>13781</td>\n",
       "      <td>13791</td>\n",
       "    </tr>\n",
       "    <tr>\n",
       "      <th>4</th>\n",
       "      <td>NaN</td>\n",
       "      <td>Angola</td>\n",
       "      <td>-11.20270</td>\n",
       "      <td>17.873900</td>\n",
       "      <td>0</td>\n",
       "      <td>0</td>\n",
       "      <td>0</td>\n",
       "      <td>0</td>\n",
       "      <td>0</td>\n",
       "      <td>0</td>\n",
       "      <td>...</td>\n",
       "      <td>34551</td>\n",
       "      <td>34752</td>\n",
       "      <td>34960</td>\n",
       "      <td>35140</td>\n",
       "      <td>35307</td>\n",
       "      <td>35594</td>\n",
       "      <td>35772</td>\n",
       "      <td>35854</td>\n",
       "      <td>36004</td>\n",
       "      <td>36115</td>\n",
       "    </tr>\n",
       "  </tbody>\n",
       "</table>\n",
       "<p>5 rows × 509 columns</p>\n",
       "</div>"
      ],
      "text/plain": [
       "  Province/State Country/Region       Lat       Long  1/22/20  1/23/20  \\\n",
       "0            NaN    Afghanistan  33.93911  67.709953        0        0   \n",
       "1            NaN        Albania  41.15330  20.168300        0        0   \n",
       "2            NaN        Algeria  28.03390   1.659600        0        0   \n",
       "3            NaN        Andorra  42.50630   1.521800        0        0   \n",
       "4            NaN         Angola -11.20270  17.873900        0        0   \n",
       "\n",
       "   1/24/20  1/25/20  1/26/20  1/27/20  ...  5/31/21  6/1/21  6/2/21  6/3/21  \\\n",
       "0        0        0        0        0  ...    71838   72977   74026   75119   \n",
       "1        0        0        0        0  ...   132315  132337  132351  132360   \n",
       "2        0        0        0        0  ...   128913  129218  129640  129976   \n",
       "3        0        0        0        0  ...    13727   13729   13744   13752   \n",
       "4        0        0        0        0  ...    34551   34752   34960   35140   \n",
       "\n",
       "   6/4/21  6/5/21  6/6/21  6/7/21  6/8/21  6/9/21  \n",
       "0   76628   77963   79224   80841   82326   84050  \n",
       "1  132372  132374  132379  132384  132397  132415  \n",
       "2  130361  130681  130958  131283  131647  132034  \n",
       "3   13758   13758   13758   13777   13781   13791  \n",
       "4   35307   35594   35772   35854   36004   36115  \n",
       "\n",
       "[5 rows x 509 columns]"
      ]
     },
     "execution_count": 5,
     "metadata": {},
     "output_type": "execute_result"
    }
   ],
   "source": [
    "confirmed_global.head()"
   ]
  },
  {
   "cell_type": "code",
   "execution_count": 6,
   "metadata": {
    "ExecuteTime": {
     "end_time": "2021-06-10T07:45:39.238337Z",
     "start_time": "2021-06-10T07:45:39.186575Z"
    }
   },
   "outputs": [],
   "source": [
    "# merging three dataframes based on first for columns as all three have same columns.\n",
    "dates = confirmed_global.columns[4:]\n",
    "confirmed_global_long = confirmed_global.melt(id_vars=['Province/State', 'Country/Region', 'Lat', 'Long'], \n",
    "                                              value_vars=dates, var_name='Date', value_name='Confirmed')\n",
    "\n",
    "deaths_global_long = deaths_global.melt(id_vars=['Province/State', 'Country/Region', 'Lat', 'Long'], \n",
    "                                        value_vars=dates, var_name='Date', value_name='Deaths')\n",
    "\n",
    "recovered_global_long = recovered_global.melt(id_vars=['Province/State', 'Country/Region', 'Lat', 'Long'],\n",
    "                                              value_vars=dates, var_name='Date', value_name='Recovered')"
   ]
  },
  {
   "cell_type": "code",
   "execution_count": 7,
   "metadata": {
    "ExecuteTime": {
     "end_time": "2021-06-10T07:45:39.489278Z",
     "start_time": "2021-06-10T07:45:39.241800Z"
    }
   },
   "outputs": [],
   "source": [
    "data = pd.merge(left=confirmed_global_long, right=deaths_global_long, \n",
    "                how ='left', on=['Province/State', 'Country/Region', 'Date', 'Lat', 'Long'])\n",
    "\n",
    "data = pd.merge(left=data, right=recovered_global_long, how='left',\n",
    "                on=['Province/State', 'Country/Region', 'Date', 'Lat', 'Long'])\n",
    "\n",
    "data['Recovered'] = data['Recovered'].fillna(0)\n",
    "data['Recovered'] = data['Recovered'].astype('int')\n"
   ]
  },
  {
   "cell_type": "code",
   "execution_count": 8,
   "metadata": {
    "ExecuteTime": {
     "end_time": "2021-06-10T07:45:39.533422Z",
     "start_time": "2021-06-10T07:45:39.491769Z"
    }
   },
   "outputs": [],
   "source": [
    "# renaming countries, regions, provinces\n",
    "# i manually find this\n",
    "data['Country/Region'] = data['Country/Region'].replace('Korea, South', 'South Korea')\n",
    "data.loc[data['Country/Region'] == \"Taiwan*\", \"Country/Region\"] = \"Taiwan\"\n",
    "\n",
    "#Change column name\n",
    "data = data.rename(columns={\"Country/Region\": \"Country\"})\n",
    "data = data.rename(columns={\"Province/State\": \"State\"})\n",
    "\n",
    "data['State'] = data['State'].fillna('')\n",
    "\n",
    "#create active case column\n",
    "data[\"Active\"] = data[\"Confirmed\"]-data[\"Recovered\"]-data[\"Deaths\"]"
   ]
  },
  {
   "cell_type": "code",
   "execution_count": 9,
   "metadata": {
    "ExecuteTime": {
     "end_time": "2021-06-10T07:45:40.057538Z",
     "start_time": "2021-06-10T07:45:39.535309Z"
    }
   },
   "outputs": [],
   "source": [
    "data.to_csv('novel_corona_virus_dataset.csv', index=False)"
   ]
  }
 ],
 "metadata": {
  "kernelspec": {
   "display_name": "Python 3",
   "language": "python",
   "name": "python3"
  },
  "language_info": {
   "codemirror_mode": {
    "name": "ipython",
    "version": 3
   },
   "file_extension": ".py",
   "mimetype": "text/x-python",
   "name": "python",
   "nbconvert_exporter": "python",
   "pygments_lexer": "ipython3",
   "version": "3.8.5"
  },
  "latex_envs": {
   "LaTeX_envs_menu_present": true,
   "autoclose": false,
   "autocomplete": true,
   "bibliofile": "biblio.bib",
   "cite_by": "apalike",
   "current_citInitial": 1,
   "eqLabelWithNumbers": true,
   "eqNumInitial": 1,
   "hotkeys": {
    "equation": "Ctrl-E",
    "itemize": "Ctrl-I"
   },
   "labels_anchors": false,
   "latex_user_defs": false,
   "report_style_numbering": false,
   "user_envs_cfg": false
  },
  "toc": {
   "base_numbering": 1,
   "nav_menu": {},
   "number_sections": true,
   "sideBar": true,
   "skip_h1_title": false,
   "title_cell": "Table of Contents",
   "title_sidebar": "Contents",
   "toc_cell": false,
   "toc_position": {},
   "toc_section_display": true,
   "toc_window_display": false
  },
  "varInspector": {
   "cols": {
    "lenName": 16,
    "lenType": 16,
    "lenVar": 40
   },
   "kernels_config": {
    "python": {
     "delete_cmd_postfix": "",
     "delete_cmd_prefix": "del ",
     "library": "var_list.py",
     "varRefreshCmd": "print(var_dic_list())"
    },
    "r": {
     "delete_cmd_postfix": ") ",
     "delete_cmd_prefix": "rm(",
     "library": "var_list.r",
     "varRefreshCmd": "cat(var_dic_list()) "
    }
   },
   "types_to_exclude": [
    "module",
    "function",
    "builtin_function_or_method",
    "instance",
    "_Feature"
   ],
   "window_display": false
  }
 },
 "nbformat": 4,
 "nbformat_minor": 4
}
