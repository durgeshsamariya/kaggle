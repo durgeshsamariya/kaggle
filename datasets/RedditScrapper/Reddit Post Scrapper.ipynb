{
 "cells": [
  {
   "cell_type": "markdown",
   "metadata": {},
   "source": [
    "# Reddit Posts Scrapper"
   ]
  },
  {
   "cell_type": "markdown",
   "metadata": {},
   "source": [
    "To scrape data from the reddit, first of all you need to validate your self."
   ]
  },
  {
   "cell_type": "code",
   "execution_count": 2,
   "metadata": {
    "ExecuteTime": {
     "end_time": "2020-09-25T06:02:51.789042Z",
     "start_time": "2020-09-25T06:02:50.052078Z"
    }
   },
   "outputs": [],
   "source": [
    "import praw\n",
    "import pandas as pd\n",
    "import datetime as dt"
   ]
  },
  {
   "cell_type": "code",
   "execution_count": 2,
   "metadata": {
    "ExecuteTime": {
     "end_time": "2020-09-25T06:02:51.816003Z",
     "start_time": "2020-09-25T06:02:51.810015Z"
    }
   },
   "outputs": [],
   "source": [
    "# chenge this\n",
    "my_client_id = os.environ['REDDIT_CLIENT_ID']\n",
    "my_client_secret = os.environ['REDDIT_CLIENT_SECRET']\n",
    "my_user_agent = os.environ['REDDIT_USER_AGENT']"
   ]
  },
  {
   "cell_type": "code",
   "execution_count": 4,
   "metadata": {
    "ExecuteTime": {
     "end_time": "2020-09-25T06:02:52.274322Z",
     "start_time": "2020-09-25T06:02:51.875842Z"
    }
   },
   "outputs": [],
   "source": [
    "reddit = praw.Reddit(client_id=my_client_id, \\\n",
    "                     client_secret=my_client_secret, \\\n",
    "                     user_agent=my_user_agent)"
   ]
  },
  {
   "cell_type": "code",
   "execution_count": 5,
   "metadata": {
    "ExecuteTime": {
     "end_time": "2020-09-25T06:02:52.294796Z",
     "start_time": "2020-09-25T06:02:52.285268Z"
    }
   },
   "outputs": [],
   "source": [
    "data_dict = {\"title\":[], \"id\":[], \"redditor\":[], \"num_upvotes\":[], \\\n",
    "             \"subreddit\":[], \"url\":[], \"num_comments\": [],\\\n",
    "             \"created_on\": [], \"body\":[], \"upvote_ratio\":[], \"over_18\":[],\\\n",
    "             \"link_flair_text\":[], \"edited\":[]}"
   ]
  },
  {
   "cell_type": "code",
   "execution_count": 6,
   "metadata": {
    "ExecuteTime": {
     "end_time": "2020-09-25T06:02:52.353192Z",
     "start_time": "2020-09-25T06:02:52.343287Z"
    }
   },
   "outputs": [],
   "source": [
    "def get_posts(subreddit_name):\n",
    "    subreddit= reddit.subreddit(subreddit_name).top(limit=1000)\n",
    "    for submission in subreddit:\n",
    "        data_dict[\"title\"].append(submission.title)\n",
    "        data_dict[\"num_upvotes\"].append(submission.score)\n",
    "        data_dict[\"id\"].append(submission.id)\n",
    "        data_dict[\"subreddit\"].append(submission.subreddit)\n",
    "        data_dict[\"url\"].append(submission.url)\n",
    "        data_dict[\"num_comments\"].append(submission.num_comments)\n",
    "        data_dict[\"created_on\"].append(submission.created)\n",
    "        data_dict[\"body\"].append(submission.selftext)\n",
    "        data_dict[\"upvote_ratio\"].append(submission.upvote_ratio)\n",
    "        data_dict[\"over_18\"].append(submission.over_18)\n",
    "        data_dict[\"link_flair_text\"].append(submission.link_flair_text)\n",
    "        data_dict[\"edited\"].append(submission.edited)\n",
    "        data_dict[\"redditor\"].append(submission.author)"
   ]
  },
  {
   "cell_type": "code",
   "execution_count": 7,
   "metadata": {
    "ExecuteTime": {
     "end_time": "2020-09-25T06:03:02.097418Z",
     "start_time": "2020-09-25T06:03:02.091917Z"
    }
   },
   "outputs": [],
   "source": [
    "subreddits= ['datascience', 'MachineLearning', 'learnmachinelearning', \n",
    "             'LanguageTechnology', 'deeplearning', 'datasets', 'visualization',\n",
    "             'dataisbeautiful', 'learnpython', 'MLQuestions', 'DataVizRequests',\n",
    "             'statistics', 'SQL', 'neuralnetworks', 'mlpapers', 'MachinesLearn',\n",
    "             'datacleaning', 'artificial']"
   ]
  },
  {
   "cell_type": "code",
   "execution_count": 8,
   "metadata": {
    "ExecuteTime": {
     "end_time": "2020-09-25T06:07:58.617044Z",
     "start_time": "2020-09-25T06:03:02.308549Z"
    }
   },
   "outputs": [],
   "source": [
    "for subreddit in subreddits:\n",
    "    get_posts(subreddit)"
   ]
  },
  {
   "cell_type": "code",
   "execution_count": 9,
   "metadata": {
    "ExecuteTime": {
     "end_time": "2020-09-25T06:07:59.396580Z",
     "start_time": "2020-09-25T06:07:59.278083Z"
    }
   },
   "outputs": [],
   "source": [
    "data = pd.DataFrame(data_dict)"
   ]
  },
  {
   "cell_type": "code",
   "execution_count": 10,
   "metadata": {
    "ExecuteTime": {
     "end_time": "2020-09-25T06:08:00.236709Z",
     "start_time": "2020-09-25T06:08:00.192102Z"
    }
   },
   "outputs": [],
   "source": [
    "data['created_on'] = data['created_on'].apply(lambda x: dt.datetime.fromtimestamp(x))"
   ]
  },
  {
   "cell_type": "code",
   "execution_count": 11,
   "metadata": {
    "ExecuteTime": {
     "end_time": "2020-09-25T06:08:00.962830Z",
     "start_time": "2020-09-25T06:08:00.900602Z"
    }
   },
   "outputs": [
    {
     "data": {
      "text/html": [
       "<div>\n",
       "<style scoped>\n",
       "    .dataframe tbody tr th:only-of-type {\n",
       "        vertical-align: middle;\n",
       "    }\n",
       "\n",
       "    .dataframe tbody tr th {\n",
       "        vertical-align: top;\n",
       "    }\n",
       "\n",
       "    .dataframe thead th {\n",
       "        text-align: right;\n",
       "    }\n",
       "</style>\n",
       "<table border=\"1\" class=\"dataframe\">\n",
       "  <thead>\n",
       "    <tr style=\"text-align: right;\">\n",
       "      <th></th>\n",
       "      <th>title</th>\n",
       "      <th>id</th>\n",
       "      <th>redditor</th>\n",
       "      <th>num_upvotes</th>\n",
       "      <th>subreddit</th>\n",
       "      <th>url</th>\n",
       "      <th>num_comments</th>\n",
       "      <th>created_on</th>\n",
       "      <th>body</th>\n",
       "      <th>upvote_ratio</th>\n",
       "      <th>over_18</th>\n",
       "      <th>link_flair_text</th>\n",
       "      <th>edited</th>\n",
       "    </tr>\n",
       "  </thead>\n",
       "  <tbody>\n",
       "    <tr>\n",
       "      <th>0</th>\n",
       "      <td>data siens</td>\n",
       "      <td>k8nyf8</td>\n",
       "      <td>None</td>\n",
       "      <td>3403</td>\n",
       "      <td>datascience</td>\n",
       "      <td>https://dslntlv9vhjr4.cloudfront.net/posts_ima...</td>\n",
       "      <td>75</td>\n",
       "      <td>2020-12-08 01:19:55</td>\n",
       "      <td></td>\n",
       "      <td>0.97</td>\n",
       "      <td>False</td>\n",
       "      <td>Fun/Trivia</td>\n",
       "      <td>False</td>\n",
       "    </tr>\n",
       "    <tr>\n",
       "      <th>1</th>\n",
       "      <td>The pain and excitement</td>\n",
       "      <td>oeg6nl</td>\n",
       "      <td>Kent-Clark-</td>\n",
       "      <td>3400</td>\n",
       "      <td>datascience</td>\n",
       "      <td>https://i.redd.it/yqnunwryjg971.jpg</td>\n",
       "      <td>171</td>\n",
       "      <td>2021-07-06 02:27:20</td>\n",
       "      <td></td>\n",
       "      <td>0.97</td>\n",
       "      <td>False</td>\n",
       "      <td>Fun/Trivia</td>\n",
       "      <td>False</td>\n",
       "    </tr>\n",
       "    <tr>\n",
       "      <th>2</th>\n",
       "      <td>Shout Out to All the Mediocre Data Scientists ...</td>\n",
       "      <td>hohvgq</td>\n",
       "      <td>MrBurritoQuest</td>\n",
       "      <td>3010</td>\n",
       "      <td>datascience</td>\n",
       "      <td>https://www.reddit.com/r/datascience/comments/...</td>\n",
       "      <td>260</td>\n",
       "      <td>2020-07-10 09:15:31</td>\n",
       "      <td>I've been lurking on this sub for a while now ...</td>\n",
       "      <td>0.98</td>\n",
       "      <td>False</td>\n",
       "      <td>Discussion</td>\n",
       "      <td>False</td>\n",
       "    </tr>\n",
       "    <tr>\n",
       "      <th>3</th>\n",
       "      <td>It’s never too early</td>\n",
       "      <td>fg73za</td>\n",
       "      <td>da_chosen1</td>\n",
       "      <td>2968</td>\n",
       "      <td>datascience</td>\n",
       "      <td>https://i.redd.it/0c9louclfrl41.jpg</td>\n",
       "      <td>62</td>\n",
       "      <td>2020-03-10 08:26:29</td>\n",
       "      <td></td>\n",
       "      <td>0.98</td>\n",
       "      <td>False</td>\n",
       "      <td>None</td>\n",
       "      <td>False</td>\n",
       "    </tr>\n",
       "    <tr>\n",
       "      <th>4</th>\n",
       "      <td>how about that data integrity yo</td>\n",
       "      <td>oisl3e</td>\n",
       "      <td>Kickass_Wizard</td>\n",
       "      <td>2771</td>\n",
       "      <td>datascience</td>\n",
       "      <td>https://i.redd.it/x5hj821ilsa71.jpg</td>\n",
       "      <td>124</td>\n",
       "      <td>2021-07-12 20:09:38</td>\n",
       "      <td></td>\n",
       "      <td>0.98</td>\n",
       "      <td>False</td>\n",
       "      <td>Fun/Trivia</td>\n",
       "      <td>False</td>\n",
       "    </tr>\n",
       "    <tr>\n",
       "      <th>...</th>\n",
       "      <td>...</td>\n",
       "      <td>...</td>\n",
       "      <td>...</td>\n",
       "      <td>...</td>\n",
       "      <td>...</td>\n",
       "      <td>...</td>\n",
       "      <td>...</td>\n",
       "      <td>...</td>\n",
       "      <td>...</td>\n",
       "      <td>...</td>\n",
       "      <td>...</td>\n",
       "      <td>...</td>\n",
       "      <td>...</td>\n",
       "    </tr>\n",
       "    <tr>\n",
       "      <th>16120</th>\n",
       "      <td>Math behind GANs</td>\n",
       "      <td>he8af0</td>\n",
       "      <td>nerdy_wits</td>\n",
       "      <td>67</td>\n",
       "      <td>artificial</td>\n",
       "      <td>https://youtu.be/Gib_kiXgnvA</td>\n",
       "      <td>0</td>\n",
       "      <td>2020-06-23 10:25:11</td>\n",
       "      <td></td>\n",
       "      <td>0.95</td>\n",
       "      <td>False</td>\n",
       "      <td>Tutorial</td>\n",
       "      <td>False</td>\n",
       "    </tr>\n",
       "    <tr>\n",
       "      <th>16121</th>\n",
       "      <td>How the coronavirus may reshape AI research co...</td>\n",
       "      <td>fhim4a</td>\n",
       "      <td>mr_j_b</td>\n",
       "      <td>67</td>\n",
       "      <td>artificial</td>\n",
       "      <td>https://venturebeat.com/2020/03/12/how-the-cor...</td>\n",
       "      <td>10</td>\n",
       "      <td>2020-03-12 21:32:44</td>\n",
       "      <td></td>\n",
       "      <td>0.96</td>\n",
       "      <td>False</td>\n",
       "      <td>None</td>\n",
       "      <td>False</td>\n",
       "    </tr>\n",
       "    <tr>\n",
       "      <th>16122</th>\n",
       "      <td>AI Listens to Panda Love Sounds, Predicts Mati...</td>\n",
       "      <td>eo6isr</td>\n",
       "      <td>Yuqing7</td>\n",
       "      <td>67</td>\n",
       "      <td>artificial</td>\n",
       "      <td>https://medium.com/syncedreview/ai-listens-to-...</td>\n",
       "      <td>8</td>\n",
       "      <td>2020-01-13 22:09:03</td>\n",
       "      <td></td>\n",
       "      <td>0.94</td>\n",
       "      <td>False</td>\n",
       "      <td>None</td>\n",
       "      <td>False</td>\n",
       "    </tr>\n",
       "    <tr>\n",
       "      <th>16123</th>\n",
       "      <td>Natural Adversarial Examples Slash Image Class...</td>\n",
       "      <td>cgg5eb</td>\n",
       "      <td>Yuqing7</td>\n",
       "      <td>70</td>\n",
       "      <td>artificial</td>\n",
       "      <td>https://medium.com/syncedreview/natural-advers...</td>\n",
       "      <td>12</td>\n",
       "      <td>2019-07-22 22:55:37</td>\n",
       "      <td></td>\n",
       "      <td>0.96</td>\n",
       "      <td>False</td>\n",
       "      <td>None</td>\n",
       "      <td>False</td>\n",
       "    </tr>\n",
       "    <tr>\n",
       "      <th>16124</th>\n",
       "      <td>How I created an evolving neural network ecosy...</td>\n",
       "      <td>bl3t35</td>\n",
       "      <td>Naotagrey</td>\n",
       "      <td>68</td>\n",
       "      <td>artificial</td>\n",
       "      <td>https://www.youtube.com/watch?v=myJ7YOZGkv0</td>\n",
       "      <td>9</td>\n",
       "      <td>2019-05-06 03:44:06</td>\n",
       "      <td></td>\n",
       "      <td>0.95</td>\n",
       "      <td>False</td>\n",
       "      <td>discussion</td>\n",
       "      <td>False</td>\n",
       "    </tr>\n",
       "  </tbody>\n",
       "</table>\n",
       "<p>16125 rows × 13 columns</p>\n",
       "</div>"
      ],
      "text/plain": [
       "                                                   title      id  \\\n",
       "0                                             data siens  k8nyf8   \n",
       "1                                The pain and excitement  oeg6nl   \n",
       "2      Shout Out to All the Mediocre Data Scientists ...  hohvgq   \n",
       "3                                   It’s never too early  fg73za   \n",
       "4                       how about that data integrity yo  oisl3e   \n",
       "...                                                  ...     ...   \n",
       "16120                                   Math behind GANs  he8af0   \n",
       "16121  How the coronavirus may reshape AI research co...  fhim4a   \n",
       "16122  AI Listens to Panda Love Sounds, Predicts Mati...  eo6isr   \n",
       "16123  Natural Adversarial Examples Slash Image Class...  cgg5eb   \n",
       "16124  How I created an evolving neural network ecosy...  bl3t35   \n",
       "\n",
       "             redditor  num_upvotes    subreddit  \\\n",
       "0                None         3403  datascience   \n",
       "1         Kent-Clark-         3400  datascience   \n",
       "2      MrBurritoQuest         3010  datascience   \n",
       "3          da_chosen1         2968  datascience   \n",
       "4      Kickass_Wizard         2771  datascience   \n",
       "...               ...          ...          ...   \n",
       "16120      nerdy_wits           67   artificial   \n",
       "16121          mr_j_b           67   artificial   \n",
       "16122         Yuqing7           67   artificial   \n",
       "16123         Yuqing7           70   artificial   \n",
       "16124       Naotagrey           68   artificial   \n",
       "\n",
       "                                                     url  num_comments  \\\n",
       "0      https://dslntlv9vhjr4.cloudfront.net/posts_ima...            75   \n",
       "1                    https://i.redd.it/yqnunwryjg971.jpg           171   \n",
       "2      https://www.reddit.com/r/datascience/comments/...           260   \n",
       "3                    https://i.redd.it/0c9louclfrl41.jpg            62   \n",
       "4                    https://i.redd.it/x5hj821ilsa71.jpg           124   \n",
       "...                                                  ...           ...   \n",
       "16120                       https://youtu.be/Gib_kiXgnvA             0   \n",
       "16121  https://venturebeat.com/2020/03/12/how-the-cor...            10   \n",
       "16122  https://medium.com/syncedreview/ai-listens-to-...             8   \n",
       "16123  https://medium.com/syncedreview/natural-advers...            12   \n",
       "16124        https://www.youtube.com/watch?v=myJ7YOZGkv0             9   \n",
       "\n",
       "               created_on                                               body  \\\n",
       "0     2020-12-08 01:19:55                                                      \n",
       "1     2021-07-06 02:27:20                                                      \n",
       "2     2020-07-10 09:15:31  I've been lurking on this sub for a while now ...   \n",
       "3     2020-03-10 08:26:29                                                      \n",
       "4     2021-07-12 20:09:38                                                      \n",
       "...                   ...                                                ...   \n",
       "16120 2020-06-23 10:25:11                                                      \n",
       "16121 2020-03-12 21:32:44                                                      \n",
       "16122 2020-01-13 22:09:03                                                      \n",
       "16123 2019-07-22 22:55:37                                                      \n",
       "16124 2019-05-06 03:44:06                                                      \n",
       "\n",
       "       upvote_ratio  over_18 link_flair_text edited  \n",
       "0              0.97    False      Fun/Trivia  False  \n",
       "1              0.97    False      Fun/Trivia  False  \n",
       "2              0.98    False      Discussion  False  \n",
       "3              0.98    False            None  False  \n",
       "4              0.98    False      Fun/Trivia  False  \n",
       "...             ...      ...             ...    ...  \n",
       "16120          0.95    False        Tutorial  False  \n",
       "16121          0.96    False            None  False  \n",
       "16122          0.94    False            None  False  \n",
       "16123          0.96    False            None  False  \n",
       "16124          0.95    False      discussion  False  \n",
       "\n",
       "[16125 rows x 13 columns]"
      ]
     },
     "execution_count": 11,
     "metadata": {},
     "output_type": "execute_result"
    }
   ],
   "source": [
    "data"
   ]
  },
  {
   "cell_type": "code",
   "execution_count": 12,
   "metadata": {
    "ExecuteTime": {
     "end_time": "2020-09-25T06:08:01.964926Z",
     "start_time": "2020-09-25T06:08:01.629249Z"
    }
   },
   "outputs": [
    {
     "name": "stdout",
     "output_type": "stream",
     "text": [
      "past reddit posts: (32042, 13)\n"
     ]
    }
   ],
   "source": [
    "reddit_old_data = pd.read_csv(\"machine_learning_and_data_science_subreddit_data.csv\")\n",
    "print(f\"past reddit posts: {reddit_old_data.shape}\")"
   ]
  },
  {
   "cell_type": "code",
   "execution_count": 13,
   "metadata": {
    "ExecuteTime": {
     "end_time": "2020-09-25T06:08:02.814372Z",
     "start_time": "2020-09-25T06:08:02.614634Z"
    }
   },
   "outputs": [
    {
     "name": "stdout",
     "output_type": "stream",
     "text": [
      "new reddit posts: 16125 past reddit posts: 32042 all reddit posts: 48167\n"
     ]
    }
   ],
   "source": [
    "reddit_all_df = pd.concat([reddit_old_data, data], axis=0)\n",
    "print(f\"new reddit posts: {data.shape[0]} past reddit posts: {reddit_old_data.shape[0]} all reddit posts: {reddit_all_df.shape[0]}\")"
   ]
  },
  {
   "cell_type": "code",
   "execution_count": 14,
   "metadata": {
    "ExecuteTime": {
     "end_time": "2020-09-25T06:08:03.813607Z",
     "start_time": "2020-09-25T06:08:03.479553Z"
    }
   },
   "outputs": [
    {
     "name": "stdout",
     "output_type": "stream",
     "text": [
      "all reddit posts: (32636, 13)\n"
     ]
    }
   ],
   "source": [
    "reddit_all_df.drop_duplicates(subset = [\"title\", \"id\", \"redditor\", \"subreddit\"], inplace=True)\n",
    "print(f\"all reddit posts: {reddit_all_df.shape}\")"
   ]
  },
  {
   "cell_type": "code",
   "execution_count": 15,
   "metadata": {
    "ExecuteTime": {
     "end_time": "2020-09-25T06:08:05.379688Z",
     "start_time": "2020-09-25T06:08:04.442857Z"
    }
   },
   "outputs": [],
   "source": [
    "reddit_all_df.to_csv('machine_learning_and_data_science_subreddit_data.csv', index=False) "
   ]
  }
 ],
 "metadata": {
  "kernelspec": {
   "display_name": "Python 3 (ipykernel)",
   "language": "python",
   "name": "python3"
  },
  "language_info": {
   "codemirror_mode": {
    "name": "ipython",
    "version": 3
   },
   "file_extension": ".py",
   "mimetype": "text/x-python",
   "name": "python",
   "nbconvert_exporter": "python",
   "pygments_lexer": "ipython3",
   "version": "3.8.5"
  },
  "latex_envs": {
   "LaTeX_envs_menu_present": true,
   "autoclose": false,
   "autocomplete": true,
   "bibliofile": "biblio.bib",
   "cite_by": "apalike",
   "current_citInitial": 1,
   "eqLabelWithNumbers": true,
   "eqNumInitial": 1,
   "hotkeys": {
    "equation": "Ctrl-E",
    "itemize": "Ctrl-I"
   },
   "labels_anchors": false,
   "latex_user_defs": false,
   "report_style_numbering": false,
   "user_envs_cfg": false
  },
  "toc": {
   "base_numbering": 1,
   "nav_menu": {},
   "number_sections": true,
   "sideBar": true,
   "skip_h1_title": false,
   "title_cell": "Table of Contents",
   "title_sidebar": "Contents",
   "toc_cell": false,
   "toc_position": {},
   "toc_section_display": true,
   "toc_window_display": false
  },
  "varInspector": {
   "cols": {
    "lenName": 16,
    "lenType": 16,
    "lenVar": 40
   },
   "kernels_config": {
    "python": {
     "delete_cmd_postfix": "",
     "delete_cmd_prefix": "del ",
     "library": "var_list.py",
     "varRefreshCmd": "print(var_dic_list())"
    },
    "r": {
     "delete_cmd_postfix": ") ",
     "delete_cmd_prefix": "rm(",
     "library": "var_list.r",
     "varRefreshCmd": "cat(var_dic_list()) "
    }
   },
   "types_to_exclude": [
    "module",
    "function",
    "builtin_function_or_method",
    "instance",
    "_Feature"
   ],
   "window_display": false
  }
 },
 "nbformat": 4,
 "nbformat_minor": 4
}
